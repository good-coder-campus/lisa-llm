{
 "cells": [
  {
   "cell_type": "code",
   "execution_count": null,
   "id": "initial_id",
   "metadata": {
    "collapsed": true
   },
   "outputs": [],
   "source": [
    "import os\n",
    "\n",
    "api_key = \"...\"\n",
    "os.environ[\"OPENAI_API_KEY\"] = api_key\n",
    "\n",
    "os.environ.get(\"OPENAI_API_KEY\")"
   ]
  },
  {
   "metadata": {},
   "cell_type": "markdown",
   "source": "# Load document",
   "id": "d046f023bd4059f8"
  },
  {
   "metadata": {
    "ExecuteTime": {
     "end_time": "2025-03-29T11:10:30.819405Z",
     "start_time": "2025-03-29T11:10:30.340662Z"
    }
   },
   "cell_type": "code",
   "source": [
    "# text document\n",
    "from langchain_community.document_loaders import TextLoader\n",
    "\n",
    "loader = TextLoader(\"../dataset/llamaindex_data/openai.txt\")\n",
    "docs = loader.load()"
   ],
   "id": "c5afb84c412b6cc6",
   "outputs": [
    {
     "ename": "RuntimeError",
     "evalue": "Error loading ../dataset/llamaindex_data/openai.txt",
     "output_type": "error",
     "traceback": [
      "\u001B[0;31m---------------------------------------------------------------------------\u001B[0m",
      "\u001B[0;31mFileNotFoundError\u001B[0m                         Traceback (most recent call last)",
      "File \u001B[0;32m~/PycharmProjects/pythonProject/.venv/lib/python3.11/site-packages/langchain_community/document_loaders/text.py:42\u001B[0m, in \u001B[0;36mTextLoader.lazy_load\u001B[0;34m(self)\u001B[0m\n\u001B[1;32m     41\u001B[0m \u001B[38;5;28;01mtry\u001B[39;00m:\n\u001B[0;32m---> 42\u001B[0m     \u001B[38;5;28;01mwith\u001B[39;00m \u001B[38;5;28;43mopen\u001B[39;49m\u001B[43m(\u001B[49m\u001B[38;5;28;43mself\u001B[39;49m\u001B[38;5;241;43m.\u001B[39;49m\u001B[43mfile_path\u001B[49m\u001B[43m,\u001B[49m\u001B[43m \u001B[49m\u001B[43mencoding\u001B[49m\u001B[38;5;241;43m=\u001B[39;49m\u001B[38;5;28;43mself\u001B[39;49m\u001B[38;5;241;43m.\u001B[39;49m\u001B[43mencoding\u001B[49m\u001B[43m)\u001B[49m \u001B[38;5;28;01mas\u001B[39;00m f:\n\u001B[1;32m     43\u001B[0m         text \u001B[38;5;241m=\u001B[39m f\u001B[38;5;241m.\u001B[39mread()\n",
      "\u001B[0;31mFileNotFoundError\u001B[0m: [Errno 2] No such file or directory: '../dataset/llamaindex_data/openai.txt'",
      "\nThe above exception was the direct cause of the following exception:\n",
      "\u001B[0;31mRuntimeError\u001B[0m                              Traceback (most recent call last)",
      "Cell \u001B[0;32mIn[1], line 4\u001B[0m\n\u001B[1;32m      1\u001B[0m \u001B[38;5;28;01mfrom\u001B[39;00m \u001B[38;5;21;01mlangchain_community\u001B[39;00m\u001B[38;5;21;01m.\u001B[39;00m\u001B[38;5;21;01mdocument_loaders\u001B[39;00m \u001B[38;5;28;01mimport\u001B[39;00m TextLoader\n\u001B[1;32m      3\u001B[0m loader \u001B[38;5;241m=\u001B[39m TextLoader(\u001B[38;5;124m\"\u001B[39m\u001B[38;5;124m../dataset/llamaindex_data/openai.txt\u001B[39m\u001B[38;5;124m\"\u001B[39m)\n\u001B[0;32m----> 4\u001B[0m docs \u001B[38;5;241m=\u001B[39m \u001B[43mloader\u001B[49m\u001B[38;5;241;43m.\u001B[39;49m\u001B[43mload\u001B[49m\u001B[43m(\u001B[49m\u001B[43m)\u001B[49m\n",
      "File \u001B[0;32m~/PycharmProjects/pythonProject/.venv/lib/python3.11/site-packages/langchain_core/document_loaders/base.py:31\u001B[0m, in \u001B[0;36mBaseLoader.load\u001B[0;34m(self)\u001B[0m\n\u001B[1;32m     29\u001B[0m \u001B[38;5;28;01mdef\u001B[39;00m \u001B[38;5;21mload\u001B[39m(\u001B[38;5;28mself\u001B[39m) \u001B[38;5;241m-\u001B[39m\u001B[38;5;241m>\u001B[39m \u001B[38;5;28mlist\u001B[39m[Document]:\n\u001B[1;32m     30\u001B[0m \u001B[38;5;250m    \u001B[39m\u001B[38;5;124;03m\"\"\"Load data into Document objects.\"\"\"\u001B[39;00m\n\u001B[0;32m---> 31\u001B[0m     \u001B[38;5;28;01mreturn\u001B[39;00m \u001B[38;5;28;43mlist\u001B[39;49m\u001B[43m(\u001B[49m\u001B[38;5;28;43mself\u001B[39;49m\u001B[38;5;241;43m.\u001B[39;49m\u001B[43mlazy_load\u001B[49m\u001B[43m(\u001B[49m\u001B[43m)\u001B[49m\u001B[43m)\u001B[49m\n",
      "File \u001B[0;32m~/PycharmProjects/pythonProject/.venv/lib/python3.11/site-packages/langchain_community/document_loaders/text.py:58\u001B[0m, in \u001B[0;36mTextLoader.lazy_load\u001B[0;34m(self)\u001B[0m\n\u001B[1;32m     56\u001B[0m         \u001B[38;5;28;01mraise\u001B[39;00m \u001B[38;5;167;01mRuntimeError\u001B[39;00m(\u001B[38;5;124mf\u001B[39m\u001B[38;5;124m\"\u001B[39m\u001B[38;5;124mError loading \u001B[39m\u001B[38;5;132;01m{\u001B[39;00m\u001B[38;5;28mself\u001B[39m\u001B[38;5;241m.\u001B[39mfile_path\u001B[38;5;132;01m}\u001B[39;00m\u001B[38;5;124m\"\u001B[39m) \u001B[38;5;28;01mfrom\u001B[39;00m \u001B[38;5;21;01me\u001B[39;00m\n\u001B[1;32m     57\u001B[0m \u001B[38;5;28;01mexcept\u001B[39;00m \u001B[38;5;167;01mException\u001B[39;00m \u001B[38;5;28;01mas\u001B[39;00m e:\n\u001B[0;32m---> 58\u001B[0m     \u001B[38;5;28;01mraise\u001B[39;00m \u001B[38;5;167;01mRuntimeError\u001B[39;00m(\u001B[38;5;124mf\u001B[39m\u001B[38;5;124m\"\u001B[39m\u001B[38;5;124mError loading \u001B[39m\u001B[38;5;132;01m{\u001B[39;00m\u001B[38;5;28mself\u001B[39m\u001B[38;5;241m.\u001B[39mfile_path\u001B[38;5;132;01m}\u001B[39;00m\u001B[38;5;124m\"\u001B[39m) \u001B[38;5;28;01mfrom\u001B[39;00m \u001B[38;5;21;01me\u001B[39;00m\n\u001B[1;32m     60\u001B[0m metadata \u001B[38;5;241m=\u001B[39m {\u001B[38;5;124m\"\u001B[39m\u001B[38;5;124msource\u001B[39m\u001B[38;5;124m\"\u001B[39m: \u001B[38;5;28mstr\u001B[39m(\u001B[38;5;28mself\u001B[39m\u001B[38;5;241m.\u001B[39mfile_path)}\n\u001B[1;32m     61\u001B[0m \u001B[38;5;28;01myield\u001B[39;00m Document(page_content\u001B[38;5;241m=\u001B[39mtext, metadata\u001B[38;5;241m=\u001B[39mmetadata)\n",
      "\u001B[0;31mRuntimeError\u001B[0m: Error loading ../dataset/llamaindex_data/openai.txt"
     ]
    }
   ],
   "execution_count": 1
  },
  {
   "metadata": {},
   "cell_type": "code",
   "outputs": [],
   "execution_count": null,
   "source": [
    "# pdf document\n",
    "from langchain_community.document_loaders import PyPDFLoader\n",
    "\n",
    "loader = PyPDFLoader(\"../dataset/llamaindex_data/Mistral AI - Wikipedia.pdf\")\n",
    "docs = loader.load()"
   ],
   "id": "b3bbf8ee29f00cce"
  },
  {
   "metadata": {},
   "cell_type": "code",
   "outputs": [],
   "execution_count": null,
   "source": [
    "# directory 내 문서 모두 불러오기\n",
    "from langchain_community.document_loaders import DirectoryLoader\n",
    "\n",
    "loader = DirectoryLoader(\"../dataset/llamaindex_data\", glob=\"*\", show_progress=True)\n",
    "docs = loader.load()"
   ],
   "id": "8229571016f19790"
  },
  {
   "metadata": {},
   "cell_type": "markdown",
   "source": "# Chunking ",
   "id": "68a2f5c19189d9ac"
  },
  {
   "metadata": {
    "ExecuteTime": {
     "end_time": "2025-03-29T11:13:46.473887Z",
     "start_time": "2025-03-29T11:13:46.470401Z"
    }
   },
   "cell_type": "code",
   "source": [
    "from langchain_text_splitters import CharacterTextSplitter\n",
    "\n",
    "text_splitter = CharacterTextSplitter(\n",
    "    separator=\"\\n\",\n",
    "    chunk_size=500,\n",
    "    chunk_overlap=20,\n",
    "    length_function=len,\n",
    "    is_separator_regex=False\n",
    ")"
   ],
   "id": "fb712505a3bebe84",
   "outputs": [],
   "execution_count": 3
  },
  {
   "metadata": {
    "ExecuteTime": {
     "end_time": "2025-03-29T11:14:04.094173Z",
     "start_time": "2025-03-29T11:14:04.082901Z"
    }
   },
   "cell_type": "code",
   "source": "documents = text_splitter.split_documents(docs)",
   "id": "3a628bd2ff287aec",
   "outputs": [
    {
     "ename": "NameError",
     "evalue": "name 'docs' is not defined",
     "output_type": "error",
     "traceback": [
      "\u001B[0;31m---------------------------------------------------------------------------\u001B[0m",
      "\u001B[0;31mNameError\u001B[0m                                 Traceback (most recent call last)",
      "Cell \u001B[0;32mIn[4], line 1\u001B[0m\n\u001B[0;32m----> 1\u001B[0m documents \u001B[38;5;241m=\u001B[39m text_splitter\u001B[38;5;241m.\u001B[39msplit_documents(\u001B[43mdocs\u001B[49m)\n",
      "\u001B[0;31mNameError\u001B[0m: name 'docs' is not defined"
     ]
    }
   ],
   "execution_count": 4
  },
  {
   "metadata": {},
   "cell_type": "markdown",
   "source": "# Recursive Text Splitter",
   "id": "a8d225d6ee48c787"
  },
  {
   "metadata": {
    "ExecuteTime": {
     "end_time": "2025-03-29T12:57:35.821458Z",
     "start_time": "2025-03-29T12:57:35.814504Z"
    }
   },
   "cell_type": "code",
   "source": [
    "from langchain_text_splitters import RecursiveCharacterTextSplitter\n",
    "\n",
    "text_splitter = RecursiveCharacterTextSplitter(\n",
    "    separators=[\"\\n\\n\", \"\\n\", \" \"],\n",
    "    chunk_size=500,\n",
    "    chunk_overlap=20,\n",
    "    length_function=len,\n",
    "    is_separator_regex=False\n",
    ")"
   ],
   "id": "e43a715b3ac714e9",
   "outputs": [],
   "execution_count": 5
  },
  {
   "metadata": {},
   "cell_type": "code",
   "outputs": [],
   "execution_count": null,
   "source": "documents = text_splitter.split_documents(docs)",
   "id": "df40b5a8d2aad9b6"
  },
  {
   "metadata": {
    "ExecuteTime": {
     "end_time": "2025-03-29T12:59:28.852682Z",
     "start_time": "2025-03-29T12:59:27.530984Z"
    }
   },
   "cell_type": "code",
   "source": [
    "from langchain_experimental.text_splitter import SemanticChunker\n",
    "from langchain_openai.embeddings import OpenAIEmbeddings\n",
    "\n",
    "text_splitter = SemanticChunker(OpenAIEmbeddings(api_key=api_key))\n",
    "documents = text_splitter.split_documents(docs)"
   ],
   "id": "3ba7a6300850d2c8",
   "outputs": [
    {
     "ename": "NameError",
     "evalue": "name 'api_key' is not defined",
     "output_type": "error",
     "traceback": [
      "\u001B[0;31m---------------------------------------------------------------------------\u001B[0m",
      "\u001B[0;31mNameError\u001B[0m                                 Traceback (most recent call last)",
      "Cell \u001B[0;32mIn[6], line 4\u001B[0m\n\u001B[1;32m      1\u001B[0m \u001B[38;5;28;01mfrom\u001B[39;00m \u001B[38;5;21;01mlangchain_experimental\u001B[39;00m\u001B[38;5;21;01m.\u001B[39;00m\u001B[38;5;21;01mtext_splitter\u001B[39;00m \u001B[38;5;28;01mimport\u001B[39;00m SemanticChunker\n\u001B[1;32m      2\u001B[0m \u001B[38;5;28;01mfrom\u001B[39;00m \u001B[38;5;21;01mlangchain_openai\u001B[39;00m\u001B[38;5;21;01m.\u001B[39;00m\u001B[38;5;21;01membeddings\u001B[39;00m \u001B[38;5;28;01mimport\u001B[39;00m OpenAIEmbeddings\n\u001B[0;32m----> 4\u001B[0m text_splitter \u001B[38;5;241m=\u001B[39m SemanticChunker(OpenAIEmbeddings(api_key\u001B[38;5;241m=\u001B[39m\u001B[43mapi_key\u001B[49m))\n\u001B[1;32m      5\u001B[0m documents \u001B[38;5;241m=\u001B[39m text_splitter\u001B[38;5;241m.\u001B[39msplit_documents(docs)\n",
      "\u001B[0;31mNameError\u001B[0m: name 'api_key' is not defined"
     ]
    }
   ],
   "execution_count": 6
  },
  {
   "metadata": {},
   "cell_type": "code",
   "outputs": [],
   "execution_count": null,
   "source": [
    "from langchain_text_splitters import CharacterTextSplitter\n",
    "\n",
    "# tiktoken -> OpenAI 가 개발\n",
    "text_splitter = CharacterTextSplitter.from_tiktoken_encoder(\n",
    "    chunk_size=500, chunk_overlap=0\n",
    ")\n",
    "documents = text_splitter.split_documents(docs)"
   ],
   "id": "397f99b6a4b2f0b2"
  },
  {
   "metadata": {},
   "cell_type": "markdown",
   "source": "",
   "id": "75d143857cb4d27b"
  },
  {
   "metadata": {},
   "cell_type": "markdown",
   "source": "# Embedding",
   "id": "5e02f49fa0f5478f"
  },
  {
   "metadata": {
    "ExecuteTime": {
     "end_time": "2025-03-29T13:01:32.546353Z",
     "start_time": "2025-03-29T13:01:32.527877Z"
    }
   },
   "cell_type": "code",
   "source": [
    "embed_model = OpenAIEmbeddings(api_key=api_key, model=\"text-embedding-3-small\")\n",
    "emb = embed_model.embed_query(\"What is Mistral AI?\")"
   ],
   "id": "bd4a074f51f73720",
   "outputs": [
    {
     "ename": "NameError",
     "evalue": "name 'api_key' is not defined",
     "output_type": "error",
     "traceback": [
      "\u001B[0;31m---------------------------------------------------------------------------\u001B[0m",
      "\u001B[0;31mNameError\u001B[0m                                 Traceback (most recent call last)",
      "Cell \u001B[0;32mIn[8], line 1\u001B[0m\n\u001B[0;32m----> 1\u001B[0m embed_model \u001B[38;5;241m=\u001B[39m OpenAIEmbeddings(api_key\u001B[38;5;241m=\u001B[39m\u001B[43mapi_key\u001B[49m, model\u001B[38;5;241m=\u001B[39m\u001B[38;5;124m\"\u001B[39m\u001B[38;5;124mtext-embedding-3-small\u001B[39m\u001B[38;5;124m\"\u001B[39m)\n\u001B[1;32m      2\u001B[0m emb \u001B[38;5;241m=\u001B[39m embed_model\u001B[38;5;241m.\u001B[39membed_query(\u001B[38;5;124m\"\u001B[39m\u001B[38;5;124mWhat is Mistral AI?\u001B[39m\u001B[38;5;124m\"\u001B[39m)\n",
      "\u001B[0;31mNameError\u001B[0m: name 'api_key' is not defined"
     ]
    }
   ],
   "execution_count": 8
  },
  {
   "metadata": {
    "ExecuteTime": {
     "end_time": "2025-03-29T13:02:00.271262Z",
     "start_time": "2025-03-29T13:02:00.259293Z"
    }
   },
   "cell_type": "code",
   "source": "emb = embed_model.embed_documents([\"What is Mistral AI?\", \"ML\"])",
   "id": "f0541330ebc3f3f8",
   "outputs": [
    {
     "ename": "NameError",
     "evalue": "name 'embed_model' is not defined",
     "output_type": "error",
     "traceback": [
      "\u001B[0;31m---------------------------------------------------------------------------\u001B[0m",
      "\u001B[0;31mNameError\u001B[0m                                 Traceback (most recent call last)",
      "Cell \u001B[0;32mIn[9], line 1\u001B[0m\n\u001B[0;32m----> 1\u001B[0m emb \u001B[38;5;241m=\u001B[39m \u001B[43membed_model\u001B[49m\u001B[38;5;241m.\u001B[39membed_documents([\u001B[38;5;124m\"\u001B[39m\u001B[38;5;124mWhat is Mistral AI?\u001B[39m\u001B[38;5;124m\"\u001B[39m, \u001B[38;5;124m\"\u001B[39m\u001B[38;5;124mML\u001B[39m\u001B[38;5;124m\"\u001B[39m])\n",
      "\u001B[0;31mNameError\u001B[0m: name 'embed_model' is not defined"
     ]
    }
   ],
   "execution_count": 9
  },
  {
   "metadata": {},
   "cell_type": "markdown",
   "source": "# VectorStore",
   "id": "dac4ad4a2b48248c"
  },
  {
   "metadata": {
    "ExecuteTime": {
     "end_time": "2025-03-29T13:04:28.847915Z",
     "start_time": "2025-03-29T13:04:28.826343Z"
    }
   },
   "cell_type": "code",
   "source": [
    "from langchain_community.vectorstores import Chroma\n",
    "\n",
    "vector_index = Chroma.from_documents(documents, embed_model)"
   ],
   "id": "bb2df0f5a3334dc9",
   "outputs": [
    {
     "ename": "NameError",
     "evalue": "name 'documents' is not defined",
     "output_type": "error",
     "traceback": [
      "\u001B[0;31m---------------------------------------------------------------------------\u001B[0m",
      "\u001B[0;31mNameError\u001B[0m                                 Traceback (most recent call last)",
      "Cell \u001B[0;32mIn[10], line 3\u001B[0m\n\u001B[1;32m      1\u001B[0m \u001B[38;5;28;01mfrom\u001B[39;00m \u001B[38;5;21;01mlangchain_community\u001B[39;00m\u001B[38;5;21;01m.\u001B[39;00m\u001B[38;5;21;01mvectorstores\u001B[39;00m \u001B[38;5;28;01mimport\u001B[39;00m Chroma\n\u001B[0;32m----> 3\u001B[0m vector_index \u001B[38;5;241m=\u001B[39m Chroma\u001B[38;5;241m.\u001B[39mfrom_documents(\u001B[43mdocuments\u001B[49m, embed_model)\n",
      "\u001B[0;31mNameError\u001B[0m: name 'documents' is not defined"
     ]
    }
   ],
   "execution_count": 10
  },
  {
   "metadata": {
    "ExecuteTime": {
     "end_time": "2025-03-29T13:04:58.122845Z",
     "start_time": "2025-03-29T13:04:58.110228Z"
    }
   },
   "cell_type": "code",
   "source": "retrieved = vector_index.similarity_search(\"What is Mistral AI?\")",
   "id": "32765fd93cf9f566",
   "outputs": [
    {
     "ename": "NameError",
     "evalue": "name 'vector_index' is not defined",
     "output_type": "error",
     "traceback": [
      "\u001B[0;31m---------------------------------------------------------------------------\u001B[0m",
      "\u001B[0;31mNameError\u001B[0m                                 Traceback (most recent call last)",
      "Cell \u001B[0;32mIn[11], line 1\u001B[0m\n\u001B[0;32m----> 1\u001B[0m retrieved \u001B[38;5;241m=\u001B[39m \u001B[43mvector_index\u001B[49m\u001B[38;5;241m.\u001B[39msimilarity_search(\u001B[38;5;124m\"\u001B[39m\u001B[38;5;124mWhat is Mistral AI?\u001B[39m\u001B[38;5;124m\"\u001B[39m)\n",
      "\u001B[0;31mNameError\u001B[0m: name 'vector_index' is not defined"
     ]
    }
   ],
   "execution_count": 11
  },
  {
   "metadata": {
    "ExecuteTime": {
     "end_time": "2025-03-29T13:05:32.689723Z",
     "start_time": "2025-03-29T13:05:32.673580Z"
    }
   },
   "cell_type": "code",
   "source": [
    "from langchain_community.vectorstores import FAISS\n",
    "\n",
    "vector_index = FAISS.from_documents(documents, embed_model)"
   ],
   "id": "26350598376d0db5",
   "outputs": [
    {
     "ename": "NameError",
     "evalue": "name 'documents' is not defined",
     "output_type": "error",
     "traceback": [
      "\u001B[0;31m---------------------------------------------------------------------------\u001B[0m",
      "\u001B[0;31mNameError\u001B[0m                                 Traceback (most recent call last)",
      "Cell \u001B[0;32mIn[12], line 3\u001B[0m\n\u001B[1;32m      1\u001B[0m \u001B[38;5;28;01mfrom\u001B[39;00m \u001B[38;5;21;01mlangchain_community\u001B[39;00m\u001B[38;5;21;01m.\u001B[39;00m\u001B[38;5;21;01mvectorstores\u001B[39;00m \u001B[38;5;28;01mimport\u001B[39;00m FAISS\n\u001B[0;32m----> 3\u001B[0m vector_index \u001B[38;5;241m=\u001B[39m FAISS\u001B[38;5;241m.\u001B[39mfrom_documents(\u001B[43mdocuments\u001B[49m, embed_model)\n",
      "\u001B[0;31mNameError\u001B[0m: name 'documents' is not defined"
     ]
    }
   ],
   "execution_count": 12
  },
  {
   "metadata": {},
   "cell_type": "code",
   "outputs": [],
   "execution_count": null,
   "source": [
    "retrieved = vector_index.similarity_search(\"What is Mistral AI?\")\n",
    "retrieved[0].page_content"
   ],
   "id": "fbea42baa8563f22"
  },
  {
   "metadata": {},
   "cell_type": "markdown",
   "source": "# Retriever",
   "id": "fa7a170a3b383ac8"
  },
  {
   "metadata": {},
   "cell_type": "code",
   "outputs": [],
   "execution_count": null,
   "source": [
    "query = \"OpenAI의 sora 모델에 대해 알려줘\"\n",
    "\n",
    "retriever = vector_index.as_retriever(search_type=\"mmr\")\n",
    "retriever.get_relevant_documents(query)"
   ],
   "id": "5e3f91108c1a5880"
  },
  {
   "metadata": {
    "ExecuteTime": {
     "end_time": "2025-03-29T13:07:19.672514Z",
     "start_time": "2025-03-29T13:07:19.659131Z"
    }
   },
   "cell_type": "code",
   "source": [
    "retriever = vector_index.as_retriever(search_type=\"similarity_score_threshold\", search_kwargs={\"score_threshold: 0.2\"})\n",
    "retriever.get_relevant_documents(query)"
   ],
   "id": "2a1681041f3686f4",
   "outputs": [
    {
     "ename": "NameError",
     "evalue": "name 'vector_index' is not defined",
     "output_type": "error",
     "traceback": [
      "\u001B[0;31m---------------------------------------------------------------------------\u001B[0m",
      "\u001B[0;31mNameError\u001B[0m                                 Traceback (most recent call last)",
      "Cell \u001B[0;32mIn[13], line 1\u001B[0m\n\u001B[0;32m----> 1\u001B[0m retriever \u001B[38;5;241m=\u001B[39m \u001B[43mvector_index\u001B[49m\u001B[38;5;241m.\u001B[39mas_retriever(search_type\u001B[38;5;241m=\u001B[39m\u001B[38;5;124m\"\u001B[39m\u001B[38;5;124msimilarity_score_threshold\u001B[39m\u001B[38;5;124m\"\u001B[39m, search_kwargs\u001B[38;5;241m=\u001B[39m{\u001B[38;5;124m\"\u001B[39m\u001B[38;5;124mscore_threshold: 0.3\u001B[39m\u001B[38;5;124m\"\u001B[39m})\n\u001B[1;32m      2\u001B[0m retriever\u001B[38;5;241m.\u001B[39mget_relevant_documents(query)\n",
      "\u001B[0;31mNameError\u001B[0m: name 'vector_index' is not defined"
     ]
    }
   ],
   "execution_count": 13
  },
  {
   "metadata": {
    "ExecuteTime": {
     "end_time": "2025-03-29T13:08:00.711924Z",
     "start_time": "2025-03-29T13:08:00.698062Z"
    }
   },
   "cell_type": "code",
   "source": [
    "retriever = vector_index.as_retriever(search_kwargs={\"k\": 3})\n",
    "retriever.get_relevant_documents(query)"
   ],
   "id": "17cbd48cca808684",
   "outputs": [
    {
     "ename": "NameError",
     "evalue": "name 'vector_index' is not defined",
     "output_type": "error",
     "traceback": [
      "\u001B[0;31m---------------------------------------------------------------------------\u001B[0m",
      "\u001B[0;31mNameError\u001B[0m                                 Traceback (most recent call last)",
      "Cell \u001B[0;32mIn[14], line 1\u001B[0m\n\u001B[0;32m----> 1\u001B[0m retriever \u001B[38;5;241m=\u001B[39m \u001B[43mvector_index\u001B[49m\u001B[38;5;241m.\u001B[39mas_retriever(search_kwargs\u001B[38;5;241m=\u001B[39m{\u001B[38;5;124m\"\u001B[39m\u001B[38;5;124mk\u001B[39m\u001B[38;5;124m\"\u001B[39m: \u001B[38;5;241m3\u001B[39m})\n\u001B[1;32m      2\u001B[0m retriever\u001B[38;5;241m.\u001B[39mget_relevant_documents(query)\n",
      "\u001B[0;31mNameError\u001B[0m: name 'vector_index' is not defined"
     ]
    }
   ],
   "execution_count": 14
  },
  {
   "metadata": {
    "ExecuteTime": {
     "end_time": "2025-03-29T13:08:50.301338Z",
     "start_time": "2025-03-29T13:08:50.290456Z"
    }
   },
   "cell_type": "code",
   "source": [
    "import logging\n",
    "\n",
    "logging.basicConfig()\n",
    "logging.getLogger(\"langchain.retievers.multi_query\").setLevel(logging.INFO)"
   ],
   "id": "bbfe893c3d325031",
   "outputs": [],
   "execution_count": 15
  },
  {
   "metadata": {},
   "cell_type": "code",
   "outputs": [],
   "execution_count": null,
   "source": [
    "from langchain_openai import ChatOpenAI\n",
    "\n",
    "llm = ChatOpenAI(temperature=0)"
   ],
   "id": "462f436a16c1953e"
  },
  {
   "metadata": {},
   "cell_type": "code",
   "outputs": [],
   "execution_count": null,
   "source": [
    "from langchain.retrievers.multi_query import MultiQueryRetriever\n",
    "\n",
    "retriever_mult = MultiQueryRetriever.from_llm(retriever=vector_index.as_retriever(), llm=llm)"
   ],
   "id": "14f74700df12e419"
  },
  {
   "metadata": {},
   "cell_type": "code",
   "outputs": [],
   "execution_count": null,
   "source": "retriever_mult.get_relevant_documents(query=\"OpenAI의 sora 모델에 대해 알려줘\")m",
   "id": "4682265e23af6f6f"
  },
  {
   "metadata": {
    "ExecuteTime": {
     "end_time": "2025-03-29T13:13:51.554987Z",
     "start_time": "2025-03-29T13:13:51.435832Z"
    }
   },
   "cell_type": "code",
   "source": [
    "from langchain.retrievers import ParentDocumentRetriever\n",
    "from langchain.storage import InMemoryStore\n",
    "\n",
    "store = InMemoryStore()\n",
    "\n",
    "parent_splitter = RecursiveCharacterTextSplitter(chunk_size=2000)\n",
    "child_splitter = RecursiveCharacterTextSplitter(chunk_size=400)\n",
    "\n",
    "vector_index = Chroma(collection_name=\"split_parents\", embedding_function=embed_model)\n"
   ],
   "id": "d332fc60377e274",
   "outputs": [
    {
     "ename": "NameError",
     "evalue": "name 'embed_model' is not defined",
     "output_type": "error",
     "traceback": [
      "\u001B[0;31m---------------------------------------------------------------------------\u001B[0m",
      "\u001B[0;31mNameError\u001B[0m                                 Traceback (most recent call last)",
      "Cell \u001B[0;32mIn[16], line 9\u001B[0m\n\u001B[1;32m      6\u001B[0m parent_splitter \u001B[38;5;241m=\u001B[39m RecursiveCharacterTextSplitter(chunk_size\u001B[38;5;241m=\u001B[39m\u001B[38;5;241m2000\u001B[39m)\n\u001B[1;32m      7\u001B[0m child_splitter \u001B[38;5;241m=\u001B[39m RecursiveCharacterTextSplitter(chunk_size\u001B[38;5;241m=\u001B[39m\u001B[38;5;241m400\u001B[39m)\n\u001B[0;32m----> 9\u001B[0m vector_index \u001B[38;5;241m=\u001B[39m Chroma(collection_name\u001B[38;5;241m=\u001B[39m\u001B[38;5;124m\"\u001B[39m\u001B[38;5;124msplit_parents\u001B[39m\u001B[38;5;124m\"\u001B[39m, embedding_function\u001B[38;5;241m=\u001B[39m\u001B[43membed_model\u001B[49m)\n",
      "\u001B[0;31mNameError\u001B[0m: name 'embed_model' is not defined"
     ]
    }
   ],
   "execution_count": 16
  },
  {
   "metadata": {
    "ExecuteTime": {
     "end_time": "2025-03-29T13:14:23.866102Z",
     "start_time": "2025-03-29T13:14:23.853327Z"
    }
   },
   "cell_type": "code",
   "source": [
    "retriever = ParentDocumentRetriever(\n",
    "    vectorstore=vector_index,\n",
    "    docstore=store,\n",
    "    child_splitter=child_splitter,\n",
    "    parent_splitter=parent_splitter\n",
    ")"
   ],
   "id": "b2213d2a94c9b725",
   "outputs": [
    {
     "ename": "NameError",
     "evalue": "name 'vector_index' is not defined",
     "output_type": "error",
     "traceback": [
      "\u001B[0;31m---------------------------------------------------------------------------\u001B[0m",
      "\u001B[0;31mNameError\u001B[0m                                 Traceback (most recent call last)",
      "Cell \u001B[0;32mIn[17], line 2\u001B[0m\n\u001B[1;32m      1\u001B[0m retriever \u001B[38;5;241m=\u001B[39m ParentDocumentRetriever(\n\u001B[0;32m----> 2\u001B[0m     vectorstore\u001B[38;5;241m=\u001B[39m\u001B[43mvector_index\u001B[49m,\n\u001B[1;32m      3\u001B[0m     docstore\u001B[38;5;241m=\u001B[39mstore,\n\u001B[1;32m      4\u001B[0m     child_splitter\u001B[38;5;241m=\u001B[39mchild_splitter,\n\u001B[1;32m      5\u001B[0m     parent_splitter\u001B[38;5;241m=\u001B[39mparent_splitter\n\u001B[1;32m      6\u001B[0m )\n",
      "\u001B[0;31mNameError\u001B[0m: name 'vector_index' is not defined"
     ]
    }
   ],
   "execution_count": 17
  },
  {
   "metadata": {
    "ExecuteTime": {
     "end_time": "2025-03-29T13:14:29.262051Z",
     "start_time": "2025-03-29T13:14:29.249078Z"
    }
   },
   "cell_type": "code",
   "source": "retriever.get_relevant_documents(query=\"OpenAI의 sora 모델에 대해 알려줘\") # 아무것도 안나옴 다큐먼트 없음 ",
   "id": "57988797708ac48a",
   "outputs": [
    {
     "ename": "NameError",
     "evalue": "name 'retriever' is not defined",
     "output_type": "error",
     "traceback": [
      "\u001B[0;31m---------------------------------------------------------------------------\u001B[0m",
      "\u001B[0;31mNameError\u001B[0m                                 Traceback (most recent call last)",
      "Cell \u001B[0;32mIn[18], line 1\u001B[0m\n\u001B[0;32m----> 1\u001B[0m \u001B[43mretriever\u001B[49m\u001B[38;5;241m.\u001B[39mget_relevant_documents(query\u001B[38;5;241m=\u001B[39m\u001B[38;5;124m\"\u001B[39m\u001B[38;5;124mOpenAI의 sora 모델에 대해 알려줘\u001B[39m\u001B[38;5;124m\"\u001B[39m)\n",
      "\u001B[0;31mNameError\u001B[0m: name 'retriever' is not defined"
     ]
    }
   ],
   "execution_count": 18
  },
  {
   "metadata": {
    "ExecuteTime": {
     "end_time": "2025-03-29T13:15:17.676773Z",
     "start_time": "2025-03-29T13:15:17.668885Z"
    }
   },
   "cell_type": "code",
   "source": "retriever.add_documents(docs)",
   "id": "d2e22686061abab",
   "outputs": [
    {
     "ename": "NameError",
     "evalue": "name 'retriever' is not defined",
     "output_type": "error",
     "traceback": [
      "\u001B[0;31m---------------------------------------------------------------------------\u001B[0m",
      "\u001B[0;31mNameError\u001B[0m                                 Traceback (most recent call last)",
      "Cell \u001B[0;32mIn[19], line 1\u001B[0m\n\u001B[0;32m----> 1\u001B[0m \u001B[43mretriever\u001B[49m\u001B[38;5;241m.\u001B[39madd_documents(docs)\n",
      "\u001B[0;31mNameError\u001B[0m: name 'retriever' is not defined"
     ]
    }
   ],
   "execution_count": 19
  },
  {
   "metadata": {
    "ExecuteTime": {
     "end_time": "2025-03-29T13:15:25.989017Z",
     "start_time": "2025-03-29T13:15:25.978474Z"
    }
   },
   "cell_type": "code",
   "source": "retriever.get_relevant_documents(query=\"OpenAI의 sora 모델에 대해 알려줘\")",
   "id": "e342a3a3fd4d7d1e",
   "outputs": [
    {
     "ename": "NameError",
     "evalue": "name 'retriever' is not defined",
     "output_type": "error",
     "traceback": [
      "\u001B[0;31m---------------------------------------------------------------------------\u001B[0m",
      "\u001B[0;31mNameError\u001B[0m                                 Traceback (most recent call last)",
      "Cell \u001B[0;32mIn[20], line 1\u001B[0m\n\u001B[0;32m----> 1\u001B[0m \u001B[43mretriever\u001B[49m\u001B[38;5;241m.\u001B[39mget_relevant_documents(query\u001B[38;5;241m=\u001B[39m\u001B[38;5;124m\"\u001B[39m\u001B[38;5;124mOpenAI의 sora 모델에 대해 알려줘\u001B[39m\u001B[38;5;124m\"\u001B[39m)\n",
      "\u001B[0;31mNameError\u001B[0m: name 'retriever' is not defined"
     ]
    }
   ],
   "execution_count": 20
  },
  {
   "metadata": {},
   "cell_type": "markdown",
   "source": "# Generator",
   "id": "a4c91362478b3f21"
  },
  {
   "metadata": {
    "ExecuteTime": {
     "end_time": "2025-03-29T13:15:59.656565Z",
     "start_time": "2025-03-29T13:15:59.643930Z"
    }
   },
   "cell_type": "code",
   "source": "llm = ChatOpenAI(temperature=0, model=\"gpt-3.5-turbo\")",
   "id": "8f8e8d779d4612de",
   "outputs": [
    {
     "ename": "NameError",
     "evalue": "name 'ChatOpenAI' is not defined",
     "output_type": "error",
     "traceback": [
      "\u001B[0;31m---------------------------------------------------------------------------\u001B[0m",
      "\u001B[0;31mNameError\u001B[0m                                 Traceback (most recent call last)",
      "Cell \u001B[0;32mIn[21], line 1\u001B[0m\n\u001B[0;32m----> 1\u001B[0m llm \u001B[38;5;241m=\u001B[39m \u001B[43mChatOpenAI\u001B[49m(temperature\u001B[38;5;241m=\u001B[39m\u001B[38;5;241m0\u001B[39m, model\u001B[38;5;241m=\u001B[39m\u001B[38;5;124m\"\u001B[39m\u001B[38;5;124mgpt-3.5-turbo\u001B[39m\u001B[38;5;124m\"\u001B[39m)\n",
      "\u001B[0;31mNameError\u001B[0m: name 'ChatOpenAI' is not defined"
     ]
    }
   ],
   "execution_count": 21
  },
  {
   "metadata": {
    "ExecuteTime": {
     "end_time": "2025-03-29T13:16:08.739646Z",
     "start_time": "2025-03-29T13:16:08.729873Z"
    }
   },
   "cell_type": "code",
   "source": "llm.invoke(\"OpenAI 의 sora 모델에 대해 알려줘\")",
   "id": "79160ef5f8db91db",
   "outputs": [
    {
     "ename": "NameError",
     "evalue": "name 'llm' is not defined",
     "output_type": "error",
     "traceback": [
      "\u001B[0;31m---------------------------------------------------------------------------\u001B[0m",
      "\u001B[0;31mNameError\u001B[0m                                 Traceback (most recent call last)",
      "Cell \u001B[0;32mIn[22], line 1\u001B[0m\n\u001B[0;32m----> 1\u001B[0m \u001B[43mllm\u001B[49m\u001B[38;5;241m.\u001B[39minvoke(\u001B[38;5;124m\"\u001B[39m\u001B[38;5;124mOpenAI 의 sora 모델에 대해 알려줘\u001B[39m\u001B[38;5;124m\"\u001B[39m)\n",
      "\u001B[0;31mNameError\u001B[0m: name 'llm' is not defined"
     ]
    }
   ],
   "execution_count": 22
  },
  {
   "metadata": {},
   "cell_type": "markdown",
   "source": "# Chain",
   "id": "5165a37347daf4f1"
  },
  {
   "metadata": {
    "ExecuteTime": {
     "end_time": "2025-03-29T13:16:58.497095Z",
     "start_time": "2025-03-29T13:16:58.481272Z"
    }
   },
   "cell_type": "code",
   "source": [
    "from langchain_core.prompts import ChatPromptTemplate\n",
    "\n",
    "prompt = ChatPromptTemplate.from_template(\"Tell me something\")\n",
    "\n",
    "chain = prompt | llm"
   ],
   "id": "91570eda07869d92",
   "outputs": [
    {
     "ename": "NameError",
     "evalue": "name 'llm' is not defined",
     "output_type": "error",
     "traceback": [
      "\u001B[0;31m---------------------------------------------------------------------------\u001B[0m",
      "\u001B[0;31mNameError\u001B[0m                                 Traceback (most recent call last)",
      "Cell \u001B[0;32mIn[23], line 5\u001B[0m\n\u001B[1;32m      1\u001B[0m \u001B[38;5;28;01mfrom\u001B[39;00m \u001B[38;5;21;01mlangchain_core\u001B[39;00m\u001B[38;5;21;01m.\u001B[39;00m\u001B[38;5;21;01mprompts\u001B[39;00m \u001B[38;5;28;01mimport\u001B[39;00m ChatPromptTemplate\n\u001B[1;32m      3\u001B[0m prompt \u001B[38;5;241m=\u001B[39m ChatPromptTemplate\u001B[38;5;241m.\u001B[39mfrom_template(\u001B[38;5;124m\"\u001B[39m\u001B[38;5;124mTell me something\u001B[39m\u001B[38;5;124m\"\u001B[39m)\n\u001B[0;32m----> 5\u001B[0m chain \u001B[38;5;241m=\u001B[39m prompt \u001B[38;5;241m|\u001B[39m \u001B[43mllm\u001B[49m\n",
      "\u001B[0;31mNameError\u001B[0m: name 'llm' is not defined"
     ]
    }
   ],
   "execution_count": 23
  },
  {
   "metadata": {
    "ExecuteTime": {
     "end_time": "2025-03-29T13:17:06.705210Z",
     "start_time": "2025-03-29T13:17:06.694409Z"
    }
   },
   "cell_type": "code",
   "source": "chain.invoke({})",
   "id": "140cf4585149ba00",
   "outputs": [
    {
     "ename": "NameError",
     "evalue": "name 'chain' is not defined",
     "output_type": "error",
     "traceback": [
      "\u001B[0;31m---------------------------------------------------------------------------\u001B[0m",
      "\u001B[0;31mNameError\u001B[0m                                 Traceback (most recent call last)",
      "Cell \u001B[0;32mIn[24], line 1\u001B[0m\n\u001B[0;32m----> 1\u001B[0m \u001B[43mchain\u001B[49m\u001B[38;5;241m.\u001B[39minvoke({})\n",
      "\u001B[0;31mNameError\u001B[0m: name 'chain' is not defined"
     ]
    }
   ],
   "execution_count": 24
  },
  {
   "metadata": {
    "ExecuteTime": {
     "end_time": "2025-03-29T13:17:29.533763Z",
     "start_time": "2025-03-29T13:17:29.521965Z"
    }
   },
   "cell_type": "code",
   "source": [
    "from langchain_core.output_parsers import StrOutputParser\n",
    "\n",
    "chain = prompt | llm | StrOutputParser()"
   ],
   "id": "754f42569d85c84e",
   "outputs": [
    {
     "ename": "NameError",
     "evalue": "name 'llm' is not defined",
     "output_type": "error",
     "traceback": [
      "\u001B[0;31m---------------------------------------------------------------------------\u001B[0m",
      "\u001B[0;31mNameError\u001B[0m                                 Traceback (most recent call last)",
      "Cell \u001B[0;32mIn[25], line 3\u001B[0m\n\u001B[1;32m      1\u001B[0m \u001B[38;5;28;01mfrom\u001B[39;00m \u001B[38;5;21;01mlangchain_core\u001B[39;00m\u001B[38;5;21;01m.\u001B[39;00m\u001B[38;5;21;01moutput_parsers\u001B[39;00m \u001B[38;5;28;01mimport\u001B[39;00m StrOutputParser\n\u001B[0;32m----> 3\u001B[0m chain \u001B[38;5;241m=\u001B[39m prompt \u001B[38;5;241m|\u001B[39m \u001B[43mllm\u001B[49m \u001B[38;5;241m|\u001B[39m StrOutputParser()\n",
      "\u001B[0;31mNameError\u001B[0m: name 'llm' is not defined"
     ]
    }
   ],
   "execution_count": 25
  },
  {
   "metadata": {
    "ExecuteTime": {
     "end_time": "2025-03-29T13:17:39.666801Z",
     "start_time": "2025-03-29T13:17:39.655180Z"
    }
   },
   "cell_type": "code",
   "source": "chain.invoke({})",
   "id": "45c4c8a542e80da5",
   "outputs": [
    {
     "ename": "NameError",
     "evalue": "name 'chain' is not defined",
     "output_type": "error",
     "traceback": [
      "\u001B[0;31m---------------------------------------------------------------------------\u001B[0m",
      "\u001B[0;31mNameError\u001B[0m                                 Traceback (most recent call last)",
      "Cell \u001B[0;32mIn[26], line 1\u001B[0m\n\u001B[0;32m----> 1\u001B[0m \u001B[43mchain\u001B[49m\u001B[38;5;241m.\u001B[39minvoke({})\n",
      "\u001B[0;31mNameError\u001B[0m: name 'chain' is not defined"
     ]
    }
   ],
   "execution_count": 26
  },
  {
   "metadata": {
    "ExecuteTime": {
     "end_time": "2025-03-29T13:18:19.003172Z",
     "start_time": "2025-03-29T13:18:18.989219Z"
    }
   },
   "cell_type": "code",
   "source": [
    "prompt = ChatPromptTemplate.from_template(\"Tell me something about {topic}\")\n",
    "chain = prompt | llm | StrOutputParser()"
   ],
   "id": "71f6b1d240edc537",
   "outputs": [
    {
     "ename": "NameError",
     "evalue": "name 'llm' is not defined",
     "output_type": "error",
     "traceback": [
      "\u001B[0;31m---------------------------------------------------------------------------\u001B[0m",
      "\u001B[0;31mNameError\u001B[0m                                 Traceback (most recent call last)",
      "Cell \u001B[0;32mIn[27], line 2\u001B[0m\n\u001B[1;32m      1\u001B[0m prompt \u001B[38;5;241m=\u001B[39m ChatPromptTemplate\u001B[38;5;241m.\u001B[39mfrom_template(\u001B[38;5;124m\"\u001B[39m\u001B[38;5;124mTell me something about \u001B[39m\u001B[38;5;132;01m{topic}\u001B[39;00m\u001B[38;5;124m\"\u001B[39m)\n\u001B[0;32m----> 2\u001B[0m chain \u001B[38;5;241m=\u001B[39m prompt \u001B[38;5;241m|\u001B[39m \u001B[43mllm\u001B[49m \u001B[38;5;241m|\u001B[39m StrOutputParser()\n",
      "\u001B[0;31mNameError\u001B[0m: name 'llm' is not defined"
     ]
    }
   ],
   "execution_count": 27
  },
  {
   "metadata": {
    "ExecuteTime": {
     "end_time": "2025-03-29T13:18:30.051365Z",
     "start_time": "2025-03-29T13:18:30.042687Z"
    }
   },
   "cell_type": "code",
   "source": "chain.invoke({\"topic\": \"sora, developed by OpenAI\"})",
   "id": "7af502eee946ace",
   "outputs": [
    {
     "ename": "NameError",
     "evalue": "name 'chain' is not defined",
     "output_type": "error",
     "traceback": [
      "\u001B[0;31m---------------------------------------------------------------------------\u001B[0m",
      "\u001B[0;31mNameError\u001B[0m                                 Traceback (most recent call last)",
      "Cell \u001B[0;32mIn[28], line 1\u001B[0m\n\u001B[0;32m----> 1\u001B[0m \u001B[43mchain\u001B[49m\u001B[38;5;241m.\u001B[39minvoke({\u001B[38;5;124m\"\u001B[39m\u001B[38;5;124mtopic\u001B[39m\u001B[38;5;124m\"\u001B[39m: \u001B[38;5;124m\"\u001B[39m\u001B[38;5;124msora, developed by OpenAI\u001B[39m\u001B[38;5;124m\"\u001B[39m})\n",
      "\u001B[0;31mNameError\u001B[0m: name 'chain' is not defined"
     ]
    }
   ],
   "execution_count": 28
  },
  {
   "metadata": {
    "ExecuteTime": {
     "end_time": "2025-03-29T13:18:47.605610Z",
     "start_time": "2025-03-29T13:18:47.599072Z"
    }
   },
   "cell_type": "code",
   "source": [
    "prompt_formatted = prompt.invoke({\"topic\": \"sora, developed by OpenAI\"})\n",
    "prompt_formatted"
   ],
   "id": "5d2700543ffc9455",
   "outputs": [
    {
     "data": {
      "text/plain": [
       "ChatPromptValue(messages=[HumanMessage(content='Tell me something about sora, developed by OpenAI', additional_kwargs={}, response_metadata={})])"
      ]
     },
     "execution_count": 29,
     "metadata": {},
     "output_type": "execute_result"
    }
   ],
   "execution_count": 29
  },
  {
   "metadata": {},
   "cell_type": "code",
   "outputs": [],
   "execution_count": null,
   "source": [
    "model_output = llm.invoke(prompt_formatted)\n",
    "model_output"
   ],
   "id": "3a98c4ff5a48da61"
  },
  {
   "metadata": {},
   "cell_type": "code",
   "outputs": [],
   "execution_count": null,
   "source": [
    "parser = StrOutputParser()\n",
    "parser.invoke(model_output)"
   ],
   "id": "993f8574d122c545"
  },
  {
   "metadata": {},
   "cell_type": "code",
   "outputs": [],
   "execution_count": null,
   "source": "(prompt|llm|StrOutputParser()).invoke({\"topic\": \"sora, developed by OpenAI\"})",
   "id": "8a5640b413193daf"
  },
  {
   "metadata": {},
   "cell_type": "markdown",
   "source": "# RAG Chain",
   "id": "98958d9439520278"
  },
  {
   "metadata": {
    "ExecuteTime": {
     "end_time": "2025-03-29T13:20:27.579772Z",
     "start_time": "2025-03-29T13:20:27.570652Z"
    }
   },
   "cell_type": "code",
   "source": [
    "retrieved_docs = retriever.invoke(\"Tell me something about sora, developed by OpenAI\")\n",
    "retrieved_docs"
   ],
   "id": "e4ae31317549b02b",
   "outputs": [
    {
     "ename": "NameError",
     "evalue": "name 'retriever' is not defined",
     "output_type": "error",
     "traceback": [
      "\u001B[0;31m---------------------------------------------------------------------------\u001B[0m",
      "\u001B[0;31mNameError\u001B[0m                                 Traceback (most recent call last)",
      "Cell \u001B[0;32mIn[30], line 1\u001B[0m\n\u001B[0;32m----> 1\u001B[0m retrieved_docs \u001B[38;5;241m=\u001B[39m \u001B[43mretriever\u001B[49m\u001B[38;5;241m.\u001B[39minvoke(\u001B[38;5;124m\"\u001B[39m\u001B[38;5;124mTell me something about sora, developed by OpenAI\u001B[39m\u001B[38;5;124m\"\u001B[39m)\n\u001B[1;32m      2\u001B[0m retrieved_docs\n",
      "\u001B[0;31mNameError\u001B[0m: name 'retriever' is not defined"
     ]
    }
   ],
   "execution_count": 30
  },
  {
   "metadata": {},
   "cell_type": "code",
   "outputs": [],
   "execution_count": null,
   "source": [
    "def merge_docs(retrieved_docs):\n",
    "    return \"\\n\\n\".join([doc.page_content for doc in retrieved_docs])"
   ],
   "id": "3f396d1a51365df7"
  },
  {
   "metadata": {
    "ExecuteTime": {
     "end_time": "2025-03-29T13:21:06.100948Z",
     "start_time": "2025-03-29T13:21:06.092811Z"
    }
   },
   "cell_type": "code",
   "source": "(retriever | merge_docs | llm | parser).invoke(\"Tell me something about sora, developed by OpenAI\")",
   "id": "fa364e84e680f692",
   "outputs": [
    {
     "ename": "NameError",
     "evalue": "name 'retriever' is not defined",
     "output_type": "error",
     "traceback": [
      "\u001B[0;31m---------------------------------------------------------------------------\u001B[0m",
      "\u001B[0;31mNameError\u001B[0m                                 Traceback (most recent call last)",
      "Cell \u001B[0;32mIn[31], line 1\u001B[0m\n\u001B[0;32m----> 1\u001B[0m (\u001B[43mretriever\u001B[49m \u001B[38;5;241m|\u001B[39m merge_docs \u001B[38;5;241m|\u001B[39m llm \u001B[38;5;241m|\u001B[39m parser)\u001B[38;5;241m.\u001B[39minvoke(\u001B[38;5;124m\"\u001B[39m\u001B[38;5;124mTell me something about sora, developed by OpenAI\u001B[39m\u001B[38;5;124m\"\u001B[39m)\n",
      "\u001B[0;31mNameError\u001B[0m: name 'retriever' is not defined"
     ]
    }
   ],
   "execution_count": 31
  },
  {
   "metadata": {},
   "cell_type": "code",
   "outputs": [],
   "execution_count": null,
   "source": [
    "from langchain_core.runnables import RunnableParallel\n",
    "\n",
    "chain_parallel = RunnableParallel({\"context\": retriever, \"llm\": llm})"
   ],
   "id": "95f3f4b45d415a13"
  },
  {
   "metadata": {},
   "cell_type": "code",
   "outputs": [],
   "execution_count": null,
   "source": "chain_parallel.invoke(\"Tell me something about sora, developed by OpenAI\")",
   "id": "c2173184a58d27bc"
  },
  {
   "metadata": {},
   "cell_type": "code",
   "outputs": [],
   "execution_count": null,
   "source": [
    "from langchain_core.runnables import RunnablePassthrough\n",
    "\n",
    "chain_parallel = RunnableParallel({\"context\": retriever, \"query\": RunnablePassthrough()})"
   ],
   "id": "d5d8dc205db9769c"
  },
  {
   "metadata": {
    "ExecuteTime": {
     "end_time": "2025-03-29T13:24:02.418464Z",
     "start_time": "2025-03-29T13:24:02.393792Z"
    }
   },
   "cell_type": "code",
   "source": "chain_parallel.invoke(\"Tell me something about sora, developed by OpenAI\")",
   "id": "845167f899339731",
   "outputs": [
    {
     "ename": "NameError",
     "evalue": "name 'chain_parallel' is not defined",
     "output_type": "error",
     "traceback": [
      "\u001B[0;31m---------------------------------------------------------------------------\u001B[0m",
      "\u001B[0;31mNameError\u001B[0m                                 Traceback (most recent call last)",
      "Cell \u001B[0;32mIn[32], line 1\u001B[0m\n\u001B[0;32m----> 1\u001B[0m \u001B[43mchain_parallel\u001B[49m\u001B[38;5;241m.\u001B[39minvoke(\u001B[38;5;124m\"\u001B[39m\u001B[38;5;124mTell me something about sora, developed by OpenAI\u001B[39m\u001B[38;5;124m\"\u001B[39m)\n",
      "\u001B[0;31mNameError\u001B[0m: name 'chain_parallel' is not defined"
     ]
    }
   ],
   "execution_count": 32
  },
  {
   "metadata": {},
   "cell_type": "code",
   "outputs": [],
   "execution_count": null,
   "source": [
    "from langchain_core.prompts.chat import ChatPromptTemplate\n",
    "\n",
    "template = \"\"\"\n",
    "Utilize the context given below, answer the question.\n",
    "[context]\n",
    "{context}\n",
    "\n",
    "question: {query}\n",
    "\"\"\"\n",
    "prompt = ChatPromptTemplate.from_template(template)"
   ],
   "id": "776e85d349ec2286"
  },
  {
   "metadata": {},
   "cell_type": "code",
   "outputs": [],
   "execution_count": null,
   "source": [
    "chain = RunnableParallel({\"context\": retriever, \"query\": RunnablePassthrough()})\\\n",
    "    | prompt\\\n",
    "    | llm \\\n",
    "    | StrOutputParser()"
   ],
   "id": "8d600d74288a9097"
  },
  {
   "metadata": {},
   "cell_type": "code",
   "outputs": [],
   "execution_count": null,
   "source": "chain.invoke(\"Tell me something about sora, developed by OpenAI\")",
   "id": "e04a89a2fc62bdf2"
  },
  {
   "metadata": {},
   "cell_type": "code",
   "outputs": [],
   "execution_count": null,
   "source": [
    "def foo(anything):\n",
    "    return \"bar\""
   ],
   "id": "c706dfc53d7c4947"
  },
  {
   "metadata": {
    "ExecuteTime": {
     "end_time": "2025-03-29T13:27:15.819676Z",
     "start_time": "2025-03-29T13:27:15.804121Z"
    }
   },
   "cell_type": "code",
   "source": [
    "chain = RunnableParallel(context=retriever, query=RunnablePassthrough(), asdf=foo) \\\n",
    "        | prompt \\\n",
    "        | llm \\\n",
    "        | StrOutputParser()"
   ],
   "id": "871737a783731bb9",
   "outputs": [
    {
     "ename": "NameError",
     "evalue": "name 'RunnableParallel' is not defined",
     "output_type": "error",
     "traceback": [
      "\u001B[0;31m---------------------------------------------------------------------------\u001B[0m",
      "\u001B[0;31mNameError\u001B[0m                                 Traceback (most recent call last)",
      "Cell \u001B[0;32mIn[34], line 1\u001B[0m\n\u001B[0;32m----> 1\u001B[0m chain \u001B[38;5;241m=\u001B[39m \u001B[43mRunnableParallel\u001B[49m(context\u001B[38;5;241m=\u001B[39mretriever, query\u001B[38;5;241m=\u001B[39mRunnablePassthrough(), asdf\u001B[38;5;241m=\u001B[39mfoo) \\\n\u001B[1;32m      2\u001B[0m         \u001B[38;5;241m|\u001B[39m prompt \\\n\u001B[1;32m      3\u001B[0m         \u001B[38;5;241m|\u001B[39m llm \\\n\u001B[1;32m      4\u001B[0m         \u001B[38;5;241m|\u001B[39m StrOutputParser()\n",
      "\u001B[0;31mNameError\u001B[0m: name 'RunnableParallel' is not defined"
     ]
    }
   ],
   "execution_count": 34
  },
  {
   "metadata": {
    "ExecuteTime": {
     "end_time": "2025-03-29T13:27:35.975385Z",
     "start_time": "2025-03-29T13:27:35.962052Z"
    }
   },
   "cell_type": "code",
   "source": [
    "chain = {\"context\": retriever, \"query\": RunnablePassthrough()} \\\n",
    "        | prompt \\\n",
    "        | llm \\\n",
    "        | StrOutputParser()"
   ],
   "id": "3d1a4b8d431b176b",
   "outputs": [
    {
     "ename": "NameError",
     "evalue": "name 'retriever' is not defined",
     "output_type": "error",
     "traceback": [
      "\u001B[0;31m---------------------------------------------------------------------------\u001B[0m",
      "\u001B[0;31mNameError\u001B[0m                                 Traceback (most recent call last)",
      "Cell \u001B[0;32mIn[35], line 1\u001B[0m\n\u001B[0;32m----> 1\u001B[0m chain \u001B[38;5;241m=\u001B[39m {\u001B[38;5;124m\"\u001B[39m\u001B[38;5;124mcontext\u001B[39m\u001B[38;5;124m\"\u001B[39m: \u001B[43mretriever\u001B[49m, \u001B[38;5;124m\"\u001B[39m\u001B[38;5;124mquery\u001B[39m\u001B[38;5;124m\"\u001B[39m: RunnablePassthrough()} \\\n\u001B[1;32m      2\u001B[0m         \u001B[38;5;241m|\u001B[39m prompt \\\n\u001B[1;32m      3\u001B[0m         \u001B[38;5;241m|\u001B[39m llm \\\n\u001B[1;32m      4\u001B[0m         \u001B[38;5;241m|\u001B[39m StrOutputParser()\n",
      "\u001B[0;31mNameError\u001B[0m: name 'retriever' is not defined"
     ]
    }
   ],
   "execution_count": 35
  },
  {
   "metadata": {
    "ExecuteTime": {
     "end_time": "2025-03-29T13:28:45.016499Z",
     "start_time": "2025-03-29T13:28:44.476520Z"
    }
   },
   "cell_type": "code",
   "source": [
    "from langchain import hub\n",
    "prompt = hub.pull(\"rlm/rag-prompt\")\n",
    "prompt.messages"
   ],
   "id": "20b61f0d9dd079ba",
   "outputs": [
    {
     "name": "stderr",
     "output_type": "stream",
     "text": [
      "/Users/harim/PycharmProjects/pythonProject/.venv/lib/python3.11/site-packages/langsmith/client.py:241: LangSmithMissingAPIKeyWarning: API key must be provided when using hosted LangSmith API\n",
      "  warnings.warn(\n"
     ]
    },
    {
     "data": {
      "text/plain": [
       "[HumanMessagePromptTemplate(prompt=PromptTemplate(input_variables=['context', 'question'], input_types={}, partial_variables={}, template=\"You are an assistant for question-answering tasks. Use the following pieces of retrieved context to answer the question. If you don't know the answer, just say that you don't know. Use three sentences maximum and keep the answer concise.\\nQuestion: {question} \\nContext: {context} \\nAnswer:\"), additional_kwargs={})]"
      ]
     },
     "execution_count": 36,
     "metadata": {},
     "output_type": "execute_result"
    }
   ],
   "execution_count": 36
  },
  {
   "metadata": {},
   "cell_type": "code",
   "outputs": [],
   "execution_count": null,
   "source": [
    "chain = RunnableParallel({\"context\": retriever, \"query\": RunnablePassthrough()}) \\\n",
    "        | prompt \\\n",
    "        | llm \\\n",
    "        | StrOutputParser()"
   ],
   "id": "d418910334b09ccf"
  },
  {
   "metadata": {},
   "cell_type": "markdown",
   "source": "# Putting it all together",
   "id": "89efc861e487c4e3"
  },
  {
   "metadata": {
    "ExecuteTime": {
     "end_time": "2025-03-29T13:30:40.790811Z",
     "start_time": "2025-03-29T13:30:40.781137Z"
    }
   },
   "cell_type": "code",
   "source": [
    "loader = DirectoryLoader(\"../dataset/llamaindex_data\", glob=\"*\", show_progress=True)\n",
    "docs = loader.load()\n",
    "\n",
    "text_splitter = RecursiveCharacterTextSplitter(\n",
    "    separators=[\"\\n\\n\", \"\\n\", \" \"],\n",
    "    chunk_size=500,\n",
    "    chunk_overlap=20,\n",
    "    length_function=len,\n",
    "    is_separator_regex=False\n",
    ")\n",
    "\n",
    "documents = text_splitter.split_documents(docs)"
   ],
   "id": "34baa26302431153",
   "outputs": [
    {
     "ename": "NameError",
     "evalue": "name 'DirectoryLoader' is not defined",
     "output_type": "error",
     "traceback": [
      "\u001B[0;31m---------------------------------------------------------------------------\u001B[0m",
      "\u001B[0;31mNameError\u001B[0m                                 Traceback (most recent call last)",
      "Cell \u001B[0;32mIn[37], line 1\u001B[0m\n\u001B[0;32m----> 1\u001B[0m loader \u001B[38;5;241m=\u001B[39m \u001B[43mDirectoryLoader\u001B[49m(\u001B[38;5;124m\"\u001B[39m\u001B[38;5;124m../dataset/llamaindex_data\u001B[39m\u001B[38;5;124m\"\u001B[39m, glob\u001B[38;5;241m=\u001B[39m\u001B[38;5;124m\"\u001B[39m\u001B[38;5;124m*\u001B[39m\u001B[38;5;124m\"\u001B[39m, show_progress\u001B[38;5;241m=\u001B[39m\u001B[38;5;28;01mTrue\u001B[39;00m)\n\u001B[1;32m      2\u001B[0m docs \u001B[38;5;241m=\u001B[39m loader\u001B[38;5;241m.\u001B[39mload()\n\u001B[1;32m      4\u001B[0m text_splitter \u001B[38;5;241m=\u001B[39m RecursiveCharacterTextSplitter(\n\u001B[1;32m      5\u001B[0m     separators\u001B[38;5;241m=\u001B[39m[\u001B[38;5;124m\"\u001B[39m\u001B[38;5;130;01m\\n\u001B[39;00m\u001B[38;5;130;01m\\n\u001B[39;00m\u001B[38;5;124m\"\u001B[39m, \u001B[38;5;124m\"\u001B[39m\u001B[38;5;130;01m\\n\u001B[39;00m\u001B[38;5;124m\"\u001B[39m, \u001B[38;5;124m\"\u001B[39m\u001B[38;5;124m \u001B[39m\u001B[38;5;124m\"\u001B[39m],\n\u001B[1;32m      6\u001B[0m     chunk_size\u001B[38;5;241m=\u001B[39m\u001B[38;5;241m500\u001B[39m,\n\u001B[0;32m   (...)\u001B[0m\n\u001B[1;32m      9\u001B[0m     is_separator_regex\u001B[38;5;241m=\u001B[39m\u001B[38;5;28;01mFalse\u001B[39;00m\n\u001B[1;32m     10\u001B[0m )\n",
      "\u001B[0;31mNameError\u001B[0m: name 'DirectoryLoader' is not defined"
     ]
    }
   ],
   "execution_count": 37
  },
  {
   "metadata": {
    "ExecuteTime": {
     "end_time": "2025-03-29T13:30:56.865055Z",
     "start_time": "2025-03-29T13:30:56.853224Z"
    }
   },
   "cell_type": "code",
   "source": "embed_model = OpenAIEmbeddings(api_key=api_key, model=\"text-embedding-3-small\")",
   "id": "4ea7a9cc154f241",
   "outputs": [
    {
     "ename": "NameError",
     "evalue": "name 'api_key' is not defined",
     "output_type": "error",
     "traceback": [
      "\u001B[0;31m---------------------------------------------------------------------------\u001B[0m",
      "\u001B[0;31mNameError\u001B[0m                                 Traceback (most recent call last)",
      "Cell \u001B[0;32mIn[38], line 1\u001B[0m\n\u001B[0;32m----> 1\u001B[0m embed_model \u001B[38;5;241m=\u001B[39m OpenAIEmbeddings(api_key\u001B[38;5;241m=\u001B[39m\u001B[43mapi_key\u001B[49m, model\u001B[38;5;241m=\u001B[39m\u001B[38;5;124m\"\u001B[39m\u001B[38;5;124mtext-embedding-3-small\u001B[39m\u001B[38;5;124m\"\u001B[39m)\n",
      "\u001B[0;31mNameError\u001B[0m: name 'api_key' is not defined"
     ]
    }
   ],
   "execution_count": 38
  },
  {
   "metadata": {
    "ExecuteTime": {
     "end_time": "2025-03-29T13:31:04.730141Z",
     "start_time": "2025-03-29T13:31:04.722461Z"
    }
   },
   "cell_type": "code",
   "source": "vector_index = FAISS.from_documents(documents, embed_model)",
   "id": "fb8df45928fe5d85",
   "outputs": [
    {
     "ename": "NameError",
     "evalue": "name 'documents' is not defined",
     "output_type": "error",
     "traceback": [
      "\u001B[0;31m---------------------------------------------------------------------------\u001B[0m",
      "\u001B[0;31mNameError\u001B[0m                                 Traceback (most recent call last)",
      "Cell \u001B[0;32mIn[39], line 1\u001B[0m\n\u001B[0;32m----> 1\u001B[0m vector_index \u001B[38;5;241m=\u001B[39m FAISS\u001B[38;5;241m.\u001B[39mfrom_documents(\u001B[43mdocuments\u001B[49m, embed_model)\n",
      "\u001B[0;31mNameError\u001B[0m: name 'documents' is not defined"
     ]
    }
   ],
   "execution_count": 39
  },
  {
   "metadata": {
    "ExecuteTime": {
     "end_time": "2025-03-29T13:31:19.496280Z",
     "start_time": "2025-03-29T13:31:19.488265Z"
    }
   },
   "cell_type": "code",
   "source": "retriever = vector_index.as_retriever(search_type=\"mmr\")",
   "id": "f08f525c6e5462",
   "outputs": [
    {
     "ename": "NameError",
     "evalue": "name 'vector_index' is not defined",
     "output_type": "error",
     "traceback": [
      "\u001B[0;31m---------------------------------------------------------------------------\u001B[0m",
      "\u001B[0;31mNameError\u001B[0m                                 Traceback (most recent call last)",
      "Cell \u001B[0;32mIn[40], line 1\u001B[0m\n\u001B[0;32m----> 1\u001B[0m retriever \u001B[38;5;241m=\u001B[39m \u001B[43mvector_index\u001B[49m\u001B[38;5;241m.\u001B[39mas_retriever(search_type\u001B[38;5;241m=\u001B[39m\u001B[38;5;124m\"\u001B[39m\u001B[38;5;124mmmr\u001B[39m\u001B[38;5;124m\"\u001B[39m)\n",
      "\u001B[0;31mNameError\u001B[0m: name 'vector_index' is not defined"
     ]
    }
   ],
   "execution_count": 40
  },
  {
   "metadata": {
    "ExecuteTime": {
     "end_time": "2025-03-29T13:31:27.378507Z",
     "start_time": "2025-03-29T13:31:27.369426Z"
    }
   },
   "cell_type": "code",
   "source": "llm = ChatOpenAI(model=\"gpt-3.5-turbo\")",
   "id": "c7db2076b6a31c1e",
   "outputs": [
    {
     "ename": "NameError",
     "evalue": "name 'ChatOpenAI' is not defined",
     "output_type": "error",
     "traceback": [
      "\u001B[0;31m---------------------------------------------------------------------------\u001B[0m",
      "\u001B[0;31mNameError\u001B[0m                                 Traceback (most recent call last)",
      "Cell \u001B[0;32mIn[41], line 1\u001B[0m\n\u001B[0;32m----> 1\u001B[0m llm \u001B[38;5;241m=\u001B[39m \u001B[43mChatOpenAI\u001B[49m(model\u001B[38;5;241m=\u001B[39m\u001B[38;5;124m\"\u001B[39m\u001B[38;5;124mgpt-3.5-turbo\u001B[39m\u001B[38;5;124m\"\u001B[39m)\n",
      "\u001B[0;31mNameError\u001B[0m: name 'ChatOpenAI' is not defined"
     ]
    }
   ],
   "execution_count": 41
  },
  {
   "metadata": {
    "ExecuteTime": {
     "end_time": "2025-03-29T13:31:34.762839Z",
     "start_time": "2025-03-29T13:31:34.345593Z"
    }
   },
   "cell_type": "code",
   "source": "prompt = hub.pull(\"rlm/rag-prompt\")",
   "id": "b8932b4b214ea0cc",
   "outputs": [
    {
     "name": "stderr",
     "output_type": "stream",
     "text": [
      "/Users/harim/PycharmProjects/pythonProject/.venv/lib/python3.11/site-packages/langsmith/client.py:241: LangSmithMissingAPIKeyWarning: API key must be provided when using hosted LangSmith API\n",
      "  warnings.warn(\n"
     ]
    }
   ],
   "execution_count": 42
  },
  {
   "metadata": {
    "ExecuteTime": {
     "end_time": "2025-03-29T13:31:49.987794Z",
     "start_time": "2025-03-29T13:31:49.985408Z"
    }
   },
   "cell_type": "code",
   "source": [
    "def merge_docs(retrieved_docs):\n",
    "    return \"\\n\\n\".join([doc.page_content for doc in retrieved_docs])"
   ],
   "id": "e5f3f13f9f5ba389",
   "outputs": [],
   "execution_count": 43
  },
  {
   "metadata": {
    "ExecuteTime": {
     "end_time": "2025-03-29T13:32:30.478181Z",
     "start_time": "2025-03-29T13:32:30.468815Z"
    }
   },
   "cell_type": "code",
   "source": [
    "chain = RunnableParallel(context=retriever | merge_docs, question=RunnablePassthrough())\\\n",
    "    | prompt \\\n",
    "    | llm \\\n",
    "    | StrOutputParser()"
   ],
   "id": "377783b45147a55d",
   "outputs": [
    {
     "ename": "NameError",
     "evalue": "name 'RunnableParallel' is not defined",
     "output_type": "error",
     "traceback": [
      "\u001B[0;31m---------------------------------------------------------------------------\u001B[0m",
      "\u001B[0;31mNameError\u001B[0m                                 Traceback (most recent call last)",
      "Cell \u001B[0;32mIn[44], line 1\u001B[0m\n\u001B[0;32m----> 1\u001B[0m chain \u001B[38;5;241m=\u001B[39m \u001B[43mRunnableParallel\u001B[49m(context\u001B[38;5;241m=\u001B[39mretriever \u001B[38;5;241m|\u001B[39m merge_docs, question\u001B[38;5;241m=\u001B[39mRunnablePassthrough())\\\n\u001B[1;32m      2\u001B[0m     \u001B[38;5;241m|\u001B[39m prompt \\\n\u001B[1;32m      3\u001B[0m     \u001B[38;5;241m|\u001B[39m llm \\\n\u001B[1;32m      4\u001B[0m     \u001B[38;5;241m|\u001B[39m StrOutputParser()\n",
      "\u001B[0;31mNameError\u001B[0m: name 'RunnableParallel' is not defined"
     ]
    }
   ],
   "execution_count": 44
  },
  {
   "metadata": {
    "ExecuteTime": {
     "end_time": "2025-03-29T13:32:38.987205Z",
     "start_time": "2025-03-29T13:32:38.977899Z"
    }
   },
   "cell_type": "code",
   "source": "chain.invoke(\"Tell me something about sora, developed by OpenAI\")",
   "id": "a62cb052d9ac8613",
   "outputs": [
    {
     "ename": "NameError",
     "evalue": "name 'chain' is not defined",
     "output_type": "error",
     "traceback": [
      "\u001B[0;31m---------------------------------------------------------------------------\u001B[0m",
      "\u001B[0;31mNameError\u001B[0m                                 Traceback (most recent call last)",
      "Cell \u001B[0;32mIn[45], line 1\u001B[0m\n\u001B[0;32m----> 1\u001B[0m \u001B[43mchain\u001B[49m\u001B[38;5;241m.\u001B[39minvoke(\u001B[38;5;124m\"\u001B[39m\u001B[38;5;124mTell me something about sora, developed by OpenAI\u001B[39m\u001B[38;5;124m\"\u001B[39m)\n",
      "\u001B[0;31mNameError\u001B[0m: name 'chain' is not defined"
     ]
    }
   ],
   "execution_count": 45
  },
  {
   "metadata": {},
   "cell_type": "code",
   "outputs": [],
   "execution_count": null,
   "source": "",
   "id": "bd7cd2ab29aa1359"
  }
 ],
 "metadata": {
  "kernelspec": {
   "display_name": "Python 3",
   "language": "python",
   "name": "python3"
  },
  "language_info": {
   "codemirror_mode": {
    "name": "ipython",
    "version": 2
   },
   "file_extension": ".py",
   "mimetype": "text/x-python",
   "name": "python",
   "nbconvert_exporter": "python",
   "pygments_lexer": "ipython2",
   "version": "2.7.6"
  }
 },
 "nbformat": 4,
 "nbformat_minor": 5
}
