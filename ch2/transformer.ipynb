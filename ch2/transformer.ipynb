{
 "cells": [
  {
   "metadata": {},
   "cell_type": "markdown",
   "source": [
    "### 토큰화 코드 작성 \n",
    "- 최근의 토큰화는 서브워드 토큰화가 기본이지만 실습 편의를 위해 단어 단위(띄어쓰기) 토큰화 수행\n",
    "- 문장을 띄어쓰기 단위로 분리하고 \n",
    "- 각 토큰에 0부터 토큰 아이디 부여 -> str2idx 저장\n",
    "- 각 토큰을 str2idx 딕셔너리로 토큰 아이디로 변환해서 input_ids에 저장 \n"
   ],
   "id": "c493d70d5d23e63d"
  },
  {
   "metadata": {
    "ExecuteTime": {
     "end_time": "2025-01-16T09:59:07.705123Z",
     "start_time": "2025-01-16T09:59:07.702240Z"
    }
   },
   "cell_type": "code",
   "source": [
    "# 띄어쓰기 단위로 분리\n",
    "input_text = \"나는 최근 상해 여행을 다녀왔다.\"\n",
    "input_text_list = input_text.split()\n",
    "print(\"input_text_list: \", input_text_list)\n",
    "\n",
    "# 토큰 -> 아이디\n",
    "# 딕셔너리와 아이디 -> 토큰 딕셔너리 만들기\n",
    "str2dix = {word: idx for idx, word in enumerate(input_text_list)}\n",
    "idx2str = {idx: word for idx, word in enumerate(input_text_list)}\n",
    "print(\"str2dix: \", str2dix)\n",
    "print(\"idx2str: \", idx2str)\n",
    "\n",
    "# 토큰을 아이디로 변환\n",
    "input_ids = [str2dix[word] for word in input_text_list]\n",
    "print(\"input_ids: \", input_ids)"
   ],
   "id": "initial_id",
   "outputs": [
    {
     "name": "stdout",
     "output_type": "stream",
     "text": [
      "input_text_list:  ['나는', '최근', '상해', '여행을', '다녀왔다.']\n",
      "str2dix:  {'나는': 0, '최근': 1, '상해': 2, '여행을': 3, '다녀왔다.': 4}\n",
      "idx2str:  {0: '나는', 1: '최근', 2: '상해', 3: '여행을', 4: '다녀왔다.'}\n",
      "input_ids:  [0, 1, 2, 3, 4]\n"
     ]
    }
   ],
   "execution_count": 6
  },
  {
   "metadata": {},
   "cell_type": "markdown",
   "source": "###  토큰 임베딩\n",
   "id": "96c200e2a7a16d1a"
  },
  {
   "metadata": {
    "ExecuteTime": {
     "end_time": "2025-01-16T09:59:07.727907Z",
     "start_time": "2025-01-16T09:59:07.722660Z"
    }
   },
   "cell_type": "code",
   "source": [
    "import torch\n",
    "import torch.nn as nn\n",
    "\n",
    "embedding_dim = 16\n",
    "embed_layer = nn.Embedding(len(str2dix), embedding_dim)\n",
    "\n",
    "input_embeddings = embed_layer(torch.tensor(input_ids)) # (5, 16)\n",
    "input_embeddings =input_embeddings.unsqueeze(0) # (1, 5, 16) \n",
    "input_embeddings.shape"
   ],
   "id": "86fe3d2ddb22e3e3",
   "outputs": [
    {
     "data": {
      "text/plain": [
       "torch.Size([1, 5, 16])"
      ]
     },
     "execution_count": 7,
     "metadata": {},
     "output_type": "execute_result"
    }
   ],
   "execution_count": 7
  },
  {
   "metadata": {},
   "cell_type": "markdown",
   "source": [
    "### 절대적 위치 인코딩 \n",
    "- 새로운 임베딩 층 하나 추가 후 위치 인덱스(position_ids)에 따라 임베딩 더하도록 구현 \n",
    "- position_ids 를 위치 임베딩 층에 입력해 위치 인코딩 생성\n",
    "- 토큰 임베딩에 위치 인코딩을 더해서 모델에 입력할 최종 입력 임베딩 준비 "
   ],
   "id": "e0f7ec3bd37d1759"
  },
  {
   "metadata": {
    "ExecuteTime": {
     "end_time": "2025-01-16T09:59:07.732682Z",
     "start_time": "2025-01-16T09:59:07.729265Z"
    }
   },
   "cell_type": "code",
   "source": [
    "embedding_dim = 16\n",
    "max_position = 12\n",
    "embed_layer = nn.Embedding(len(str2dix), embedding_dim)\n",
    "position_embed_layer = nn.Embedding(max_position, embedding_dim)\n",
    "\n",
    "position_ids = torch.arange(len(input_ids), dtype=torch.long).unsqueeze(0)\n",
    "position_encodings = position_embed_layer(position_ids)\n",
    "token_embeddings = embed_layer(torch.tensor(input_ids)) # (5, 16)\n",
    "token_embeddings = token_embeddings.unsqueeze(0) # (1, 5, 16)\n",
    "input_embeddings = token_embeddings + position_encodings\n",
    "input_embeddings.shape\n"
   ],
   "id": "460daa9471d98477",
   "outputs": [
    {
     "data": {
      "text/plain": [
       "torch.Size([1, 5, 16])"
      ]
     },
     "execution_count": 8,
     "metadata": {},
     "output_type": "execute_result"
    }
   ],
   "execution_count": 8
  },
  {
   "metadata": {},
   "cell_type": "markdown",
   "source": [
    "## attention\n",
    "\n",
    "### 쿼리, 키, 값에 가중치를 가지고 변환 "
   ],
   "id": "c28d43b0841e1aad"
  },
  {
   "metadata": {
    "ExecuteTime": {
     "end_time": "2025-01-16T09:59:07.736521Z",
     "start_time": "2025-01-16T09:59:07.733447Z"
    }
   },
   "cell_type": "code",
   "source": [
    "head_dim = 16\n",
    "\n",
    "# 쿼리, 키, 값을 계산하기 위한 변환\n",
    "weight_q = nn.Linear(embedding_dim, head_dim)\n",
    "weight_k = nn.Linear(embedding_dim, head_dim)\n",
    "weight_v = nn.Linear(embedding_dim, head_dim)\n",
    "\n",
    "# 변환 수행 \n",
    "querys = weight_q(input_embeddings) # (1, 5, 16)\n",
    "keys = weight_k(input_embeddings) # (1, 5, 16)\n",
    "values = weight_v(input_embeddings) # (1, 5, 16)"
   ],
   "id": "e59882554a6a878",
   "outputs": [],
   "execution_count": 9
  },
  {
   "metadata": {
    "ExecuteTime": {
     "end_time": "2025-01-16T09:59:07.739756Z",
     "start_time": "2025-01-16T09:59:07.737926Z"
    }
   },
   "cell_type": "code",
   "source": [
    "from math import sqrt\n",
    "import torch.nn.functional as F\n",
    "\n",
    "# Q * K^T * V\n",
    "# 스케일 점곱 방식의 어텐션  \n",
    "def compute_attention(querys, keys, values, is_causal=False):\n",
    "    dim_k = querys.size(-1) # 16\n",
    "    scores = querys @ keys.transpose(-2, -1) / sqrt(dim_k)\n",
    "    weights = F.softmax(scores, dim=-1)\n",
    "    return weights @ values "
   ],
   "id": "41e4363733782b81",
   "outputs": [],
   "execution_count": 10
  },
  {
   "metadata": {
    "ExecuteTime": {
     "end_time": "2025-01-16T09:59:07.743283Z",
     "start_time": "2025-01-16T09:59:07.740469Z"
    }
   },
   "cell_type": "code",
   "source": [
    "print(\"원본 입력 형태: \", input_embeddings.shape)\n",
    "\n",
    "after_attention_embeddings = compute_attention(querys, keys, values)\n",
    "\n",
    "print(\"어텐션 후 입력 형태: \", after_attention_embeddings.shape)"
   ],
   "id": "5b129d1669f4387c",
   "outputs": [
    {
     "name": "stdout",
     "output_type": "stream",
     "text": [
      "원본 입력 형태:  torch.Size([1, 5, 16])\n",
      "어텐션 후 입력 형태:  torch.Size([1, 5, 16])\n"
     ]
    }
   ],
   "execution_count": 11
  },
  {
   "metadata": {
    "ExecuteTime": {
     "end_time": "2025-01-16T09:59:07.746653Z",
     "start_time": "2025-01-16T09:59:07.744245Z"
    }
   },
   "cell_type": "code",
   "source": [
    "class AttentionHead(nn.Module):\n",
    "    def __init__(self, token_embed_dim, head_dim, is_causal=False):\n",
    "        super().__init__()\n",
    "        self.is_causal = is_causal\n",
    "        self.weight_q = nn.Linear(token_embed_dim, head_dim) # 쿼리 벡터 생성을 위한 선형 층\n",
    "        self.weight_k = nn.Linear(token_embed_dim, head_dim) # 키 벡터 생성을 위한 선형 층\n",
    "        self.weight_v = nn.Linear(token_embed_dim, head_dim) # 값 벡터 생성을 위한 선형 층\n",
    "    \n",
    "    def forward(self, querys, keys, values):\n",
    "        output = compute_attention(\n",
    "            self.weight_q(querys),\n",
    "            self.weight_k(keys),\n",
    "            self.weight_v(values)\n",
    "        )\n",
    "        return output"
   ],
   "id": "8b318f465519b73f",
   "outputs": [],
   "execution_count": 12
  },
  {
   "metadata": {
    "ExecuteTime": {
     "end_time": "2025-01-16T09:59:07.752285Z",
     "start_time": "2025-01-16T09:59:07.748313Z"
    }
   },
   "cell_type": "code",
   "source": [
    "attention_head = AttentionHead(embedding_dim, head_dim)\n",
    "after_attention_embeddings = attention_head(input_embeddings, input_embeddings, input_embeddings)"
   ],
   "id": "633c6d218c587a44",
   "outputs": [],
   "execution_count": 13
  },
  {
   "metadata": {
    "ExecuteTime": {
     "end_time": "2025-01-16T09:59:07.758033Z",
     "start_time": "2025-01-16T09:59:07.753154Z"
    }
   },
   "cell_type": "code",
   "source": [
    "# 멀티 헤드 어텐션 구현\n",
    "class MultiheadAttention(nn.Module):\n",
    "    def __init__(self, token_embed_dim, d_model, n_head, is_causal=False):\n",
    "        super().__init__()\n",
    "        self.n_head = n_head\n",
    "        self.is_causal = is_causal\n",
    "        self.weight_q = nn.Linear(token_embed_dim, d_model)\n",
    "        self.weight_k = nn.Linear(token_embed_dim, d_model)\n",
    "        self.weight_v = nn.Linear(token_embed_dim, d_model)\n",
    "        self.concat_linear = nn.Linear(d_model, d_model)\n",
    "\n",
    "    def forward(self, querys, keys, values):\n",
    "        B, T, C = querys.size()\n",
    "        # 선형층 통과\n",
    "        querys = self.weight_q(querys).view(B, T, self.n_head, C // self.n_head).transpose(1, 2)\n",
    "        keys = self.weight_k(keys).view(B, T, self.n_head, C // self.n_head).transpose(1, 2)\n",
    "        values = self.weight_v(values).view(B, T, self.n_head, C // self.n_head).transpose(1, 2)\n",
    "        # h번의 스케일 점곱 어텐션 수행\n",
    "        attention = compute_attention(querys, keys, values, self.is_causal)\n",
    "        # 어텐션 결과 연결\n",
    "        output = attention.transpose(1, 2).contiguous().view(B, T, C)\n",
    "        # 선형 층 대응\n",
    "        output = self.concat_linear(output)\n",
    "        return output\n",
    "    \n",
    "n_head = 4\n",
    "mh_attemtnion = MultiheadAttention(embedding_dim, embedding_dim, n_head)\n",
    "after_attention_embeddings = mh_attemtnion(input_embeddings, input_embeddings, input_embeddings)\n",
    "after_attention_embeddings.shape"
   ],
   "id": "ee701294165b60ba",
   "outputs": [
    {
     "data": {
      "text/plain": [
       "torch.Size([1, 5, 16])"
      ]
     },
     "execution_count": 14,
     "metadata": {},
     "output_type": "execute_result"
    }
   ],
   "execution_count": 14
  },
  {
   "metadata": {
    "ExecuteTime": {
     "end_time": "2025-01-16T09:59:07.763936Z",
     "start_time": "2025-01-16T09:59:07.758715Z"
    }
   },
   "cell_type": "code",
   "source": [
    "# 층 정규화\n",
    "norm = nn.LayerNorm(embedding_dim)\n",
    "norm_x = norm(input_embeddings)\n",
    "norm_x.shape \n",
    " \n",
    "norm_x.mean(dim=-1).data, norm_x.std(dim=-1).data # 실제 평균과 표준편차 확인"
   ],
   "id": "28e639415e73c27",
   "outputs": [
    {
     "data": {
      "text/plain": [
       "(tensor([[-1.8626e-08,  1.1176e-08,  1.4901e-08, -1.1176e-08, -2.2352e-08]]),\n",
       " tensor([[1.0328, 1.0328, 1.0328, 1.0328, 1.0328]]))"
      ]
     },
     "execution_count": 15,
     "metadata": {},
     "output_type": "execute_result"
    }
   ],
   "execution_count": 15
  },
  {
   "metadata": {
    "ExecuteTime": {
     "end_time": "2025-01-16T09:59:07.766224Z",
     "start_time": "2025-01-16T09:59:07.764822Z"
    }
   },
   "cell_type": "code",
   "source": [
    "# 피드 포워드 층\n",
    "\n",
    "class PreLayerNormFeedForward(nn.Module):\n",
    "    def __init__(self, d_model, dim_feedforward, dropout):\n",
    "        super().__init__()\n",
    "        self.linear1 = nn.Linear(d_model, dim_feedforward) # 선형 층 1\n",
    "        self.linear2 = nn.Linear(dim_feedforward, d_model) # 선형 층 2\n",
    "        self.dropout1 = nn.Dropout(dropout) # 드롭아웃 층 1\n",
    "        self.dropout2 = nn.Dropout(dropout) # 드롭아웃 층 2\n",
    "        self.activation = nn.GELU() # 활성 함수\n",
    "        self.norm = nn.LayerNorm(d_model) # 층 정규화 \n",
    "        \n",
    "        def forward(self, src):\n",
    "            x = self.norm(src)\n",
    "            x = self.linear2(self.dropout1(self.activation(self.linear1(x))))\n",
    "            x = self.dropout2(x)\n",
    "            return x "
   ],
   "id": "b1064591a82a1cdd",
   "outputs": [],
   "execution_count": 15
  },
  {
   "metadata": {},
   "cell_type": "code",
   "outputs": [],
   "execution_count": null,
   "source": [
    "class TransformerEncoderLayer(nn.Module):\n",
    "    def __init__(self, d_model, nhead, dim_feedforward, dropout):\n",
    "        super().__init__()\n",
    "        self.attn = MultiheadAttention(d_model, d_model, nhead) # 멀티 헤드 어텐션 클래스\n",
    "        self.norm1 = nn.LayerNorm(d_model) # 층 정규화\n",
    "        self.dropout1 = nn.Dropout(dropout) # 드롭아웃\n",
    "        self.feed_forward = PreLayerNormFeedForward(d_model, dim_feedforward, dropout) # 피드 포워드 층\n",
    "        \n",
    "    def forward(self, src):\n",
    "        norm_x = self.norm1(src)\n",
    "        attn_output = self.attn(norm_x, norm_x, norm_x)\n",
    "        x = src + self.dropout1(attn_output)\n",
    "        \n",
    "        # 피드 포워드 \n",
    "        x = self.feed_forward(x)\n",
    "        return x\n",
    "        "
   ],
   "id": "7d2b2b4ea4e07af1"
  },
  {
   "metadata": {
    "ExecuteTime": {
     "end_time": "2025-01-16T10:19:14.122671Z",
     "start_time": "2025-01-16T10:19:14.117282Z"
    }
   },
   "cell_type": "code",
   "source": [
    "import copy\n",
    "\n",
    "def get_clones(module, N):\n",
    "    return nn.ModuleList([copy.deepcopy(module) for i in range(N)])\n"
   ],
   "id": "a7c550853e028e22",
   "outputs": [],
   "execution_count": 16
  },
  {
   "metadata": {},
   "cell_type": "code",
   "outputs": [],
   "execution_count": null,
   "source": [
    "class TransformerEncoder(nn.Module):\n",
    "    def __init__(self, encoder_layer, num_layers):\n",
    "        super().__init__()\n",
    "        self.layers = get_clones(encoder_layer, num_layers)\n",
    "        self.num_layers = num_layers\n",
    "        self.norm = norm\n",
    "    \n",
    "    def forward(self, src):\n",
    "        output = src\n",
    "        for mod in self.layers:\n",
    "            output = mod(output)\n",
    "        return output"
   ],
   "id": "371785716680d08c"
  },
  {
   "metadata": {},
   "cell_type": "code",
   "outputs": [],
   "execution_count": null,
   "source": [
    "# 디코더의 어텐션 연산 (마스크 어텐션)\n",
    "def compute_attention(querys, keys, values, is_causal=False):\n",
    "    dim_k = querys.size(-1) # 16\n",
    "    scores = querys @ keys.transpose(-2, -1) / sqrt(dim_k) # (1, 5, 5)\n",
    "    if is_causal:\n",
    "        query_length = querys.size(-2)\n",
    "        key_length = keys.size(-2)\n",
    "        temp_mask = torch.ones(query_length, key_length, dtype=torch.bool).tril(diagonal=0)\n",
    "        scores = scores.masked_fill(scores, dim=-1) # (1, 5, 5)\n",
    "    weights = F.softmax(scores, dim=-1) # (1, 5, 5)\n",
    "    return weights @ values # (1, 5, 16)"
   ],
   "id": "bc6fb363c7de1ad6"
  },
  {
   "metadata": {},
   "cell_type": "code",
   "outputs": [],
   "execution_count": null,
   "source": [
    "# 크로스 어텐션이 포함된 디코더 층\n",
    "class TransformerDecoderLayer(nn.Module):\n",
    "    def __init__(self, d_model, nhead, dim_feedforward=2048, dropout=0.1):\n",
    "        super().__init__()\n",
    "        self.self_attn = MultiheadAttention(d_model, d_model, nhead)\n",
    "        self.multihead_attn = MultiheadAttention(d_model, d_model, nhead)\n",
    "        self.feed_forward = PreLayerNormFeedForward(d_model, dim_feedforward, dropout)\n",
    "        \n",
    "        self.norm1 = nn.LayerNorm(d_model)\n",
    "        self.norm2 = nn.LayerNorm(d_model)\n",
    "        self.dropout1 = nn.Dropout(dropout)\n",
    "        self.dropout2 = nn.Dropout(dropout)\n",
    "        \n",
    "    def forward(self, tgt, encoder_output, is_causal=True):\n",
    "        # 셀프 어텐션 연산\n",
    "        x = self.norm1(tgt)\n",
    "        x = x + self.dropout1(self.self_attn(x, x, x, is_causal=is_causal))\n",
    "        \n",
    "        # 크로스 어텐션 연산\n",
    "        x = self.norm2(x)\n",
    "        x = x + self.dropout2(self.multihead_attn(x, encoder_output, encoder_output))\n",
    "        \n",
    "        # 피드 포워드 연산\n",
    "        x = self.feed_forward(x)\n",
    "        return x"
   ],
   "id": "ac8ad01b7abe28b9"
  },
  {
   "metadata": {},
   "cell_type": "code",
   "outputs": [],
   "execution_count": null,
   "source": [
    "import copy\n",
    "\n",
    "def get_clones(module, N):\n",
    "    return nn.ModuleList([copy.deepcopy(module) for i in range(N)])\n",
    "\n",
    "class TransformerDecoder(nn.Module):\n",
    "    def __init__(self, decoder_layer, num_layers):\n",
    "        super().__init__()\n",
    "        self.layers = get_clones(decoder_layer, num_layers)\n",
    "        self.num_layers = num_layers\n",
    "        \n",
    "    def forward(self, tgt, src):\n",
    "        output = tgt\n",
    "        for mod in self.layers:\n",
    "            output = mod(output, src)\n",
    "        return output"
   ],
   "id": "c1d2932d151ffb83"
  }
 ],
 "metadata": {
  "kernelspec": {
   "display_name": "Python 3",
   "language": "python",
   "name": "python3"
  },
  "language_info": {
   "codemirror_mode": {
    "name": "ipython",
    "version": 2
   },
   "file_extension": ".py",
   "mimetype": "text/x-python",
   "name": "python",
   "nbconvert_exporter": "python",
   "pygments_lexer": "ipython2",
   "version": "2.7.6"
  }
 },
 "nbformat": 4,
 "nbformat_minor": 5
}
