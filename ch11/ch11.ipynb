{
 "cells": [
  {
   "metadata": {
    "ExecuteTime": {
     "end_time": "2025-03-30T13:40:36.948667Z",
     "start_time": "2025-03-30T13:40:29.800476Z"
    }
   },
   "cell_type": "code",
   "source": "!pip install sentence-transformers==2.7.0 datasets==2.19.0 huggingface_hub==0.23.0 faiss-cpu==1.8.0 -qqq",
   "id": "9c0bf363a26010f4",
   "outputs": [],
   "execution_count": 1
  },
  {
   "cell_type": "code",
   "id": "initial_id",
   "metadata": {
    "collapsed": true,
    "ExecuteTime": {
     "end_time": "2025-03-30T14:06:08.397590Z",
     "start_time": "2025-03-30T14:06:04.845901Z"
    }
   },
   "source": [
    "from sentence_transformers import SentenceTransformer, models\n",
    "\n",
    "transformer_model = models.Transformer('klue/roberta-base')\n",
    "\n",
    "pooling_layer = models.Pooling(\n",
    "    transformer_model.get_word_embedding_dimension(),\n",
    "    pooling_mode_mean_tokens=True\n",
    ")\n",
    "embedding_model = SentenceTransformer(modules=[transformer_model, pooling_layer])"
   ],
   "outputs": [
    {
     "name": "stderr",
     "output_type": "stream",
     "text": [
      "/Users/harim/PycharmProjects/pythonProject/.venv/lib/python3.11/site-packages/huggingface_hub/file_download.py:1132: FutureWarning: `resume_download` is deprecated and will be removed in version 1.0.0. Downloads always resume when possible. If you want to force a new download, use `force_download=True`.\n",
      "  warnings.warn(\n",
      "Some weights of RobertaModel were not initialized from the model checkpoint at klue/roberta-base and are newly initialized: ['roberta.pooler.dense.bias', 'roberta.pooler.dense.weight']\n",
      "You should probably TRAIN this model on a down-stream task to be able to use it for predictions and inference.\n"
     ]
    }
   ],
   "execution_count": 2
  },
  {
   "metadata": {
    "ExecuteTime": {
     "end_time": "2025-03-30T14:08:17.240025Z",
     "start_time": "2025-03-30T14:07:56.504111Z"
    }
   },
   "cell_type": "code",
   "source": [
    "# 데이터셋 불러옴 \n",
    "from datasets import load_dataset\n",
    "klue_sts_train = load_dataset('klue', 'sts', split='train')\n",
    "klue_sts_test = load_dataset('klue', 'sts', split='validation')\n",
    "klue_sts_train[0]"
   ],
   "id": "e0333cf4fc9c02f0",
   "outputs": [
    {
     "data": {
      "text/plain": [
       "Downloading data:   0%|          | 0.00/1.52M [00:00<?, ?B/s]"
      ],
      "application/vnd.jupyter.widget-view+json": {
       "version_major": 2,
       "version_minor": 0,
       "model_id": "9e2df852d59740c299f8ac05c92a0f59"
      }
     },
     "metadata": {},
     "output_type": "display_data"
    },
    {
     "data": {
      "text/plain": [
       "Downloading data:   0%|          | 0.00/68.8k [00:00<?, ?B/s]"
      ],
      "application/vnd.jupyter.widget-view+json": {
       "version_major": 2,
       "version_minor": 0,
       "model_id": "5289ffce7b304e118f169fdca40234c5"
      }
     },
     "metadata": {},
     "output_type": "display_data"
    },
    {
     "data": {
      "text/plain": [
       "Generating train split:   0%|          | 0/11668 [00:00<?, ? examples/s]"
      ],
      "application/vnd.jupyter.widget-view+json": {
       "version_major": 2,
       "version_minor": 0,
       "model_id": "b9e592debdf041f39bb80f5e6eac10a9"
      }
     },
     "metadata": {},
     "output_type": "display_data"
    },
    {
     "data": {
      "text/plain": [
       "Generating validation split:   0%|          | 0/519 [00:00<?, ? examples/s]"
      ],
      "application/vnd.jupyter.widget-view+json": {
       "version_major": 2,
       "version_minor": 0,
       "model_id": "74dc98247a5a4bc8be2c50922d784e01"
      }
     },
     "metadata": {},
     "output_type": "display_data"
    },
    {
     "data": {
      "text/plain": [
       "{'guid': 'klue-sts-v1_train_00000',\n",
       " 'source': 'airbnb-rtt',\n",
       " 'sentence1': '숙소 위치는 찾기 쉽고 일반적인 한국의 반지하 숙소입니다.',\n",
       " 'sentence2': '숙박시설의 위치는 쉽게 찾을 수 있고 한국의 대표적인 반지하 숙박시설입니다.',\n",
       " 'labels': {'label': 3.7, 'real-label': 3.714285714285714, 'binary-label': 1}}"
      ]
     },
     "execution_count": 3,
     "metadata": {},
     "output_type": "execute_result"
    }
   ],
   "execution_count": 3
  },
  {
   "metadata": {
    "ExecuteTime": {
     "end_time": "2025-03-30T14:10:47.520744Z",
     "start_time": "2025-03-30T14:10:47.485395Z"
    }
   },
   "cell_type": "code",
   "source": [
    "# 학습 데이터셋의 10% 를 검증 데이터셋으로 구성\n",
    "klue_sts_train = klue_sts_train.train_test_split(test_size=0.1, seed=42)\n",
    "klue_sts_train, klue_sts_eval = klue_sts_train['train'], klue_sts_train['test']"
   ],
   "id": "891c0955fb267a5e",
   "outputs": [],
   "execution_count": 4
  },
  {
   "metadata": {
    "ExecuteTime": {
     "end_time": "2025-03-30T14:12:42.595397Z",
     "start_time": "2025-03-30T14:12:42.232452Z"
    }
   },
   "cell_type": "code",
   "source": [
    "# label 정규화하기\n",
    "from sentence_transformers import InputExample\n",
    "\n",
    "# 유사도 점수를 0~1 사이로 정규화, InputExample 객체에 담는다\n",
    "def prepare_sts_examples(dataset):\n",
    "    examples = []\n",
    "    for data in dataset:\n",
    "        examples.append(\n",
    "            InputExample(\n",
    "                texts=[data['sentence1'], data['sentence2']],\n",
    "                label=data['labels']['label'] / 5.0\n",
    "            )\n",
    "        )\n",
    "    return examples\n",
    "\n",
    "train_examples = prepare_sts_examples(klue_sts_train)\n",
    "eval_examples = prepare_sts_examples(klue_sts_eval)\n",
    "test_examples = prepare_sts_examples(klue_sts_test)"
   ],
   "id": "240aaa323a78766b",
   "outputs": [],
   "execution_count": 5
  },
  {
   "metadata": {
    "ExecuteTime": {
     "end_time": "2025-03-30T14:14:03.330184Z",
     "start_time": "2025-03-30T14:14:03.324306Z"
    }
   },
   "cell_type": "code",
   "source": [
    "# 학습에 사용할 배치 데이터셋 만들기\n",
    "from torch.utils.data import DataLoader\n",
    "train_dataloader = DataLoader(train_examples, shuffle=True, batch_size=16)"
   ],
   "id": "f8355db15b34bb9",
   "outputs": [],
   "execution_count": 6
  },
  {
   "metadata": {
    "ExecuteTime": {
     "end_time": "2025-03-30T14:15:01.282253Z",
     "start_time": "2025-03-30T14:15:01.278139Z"
    }
   },
   "cell_type": "code",
   "source": [
    "from sentence_transformers.evaluation import EmbeddingSimilarityEvaluator\n",
    "\n",
    "eval_evaluator = EmbeddingSimilarityEvaluator.from_input_examples(eval_examples)\n",
    "test_evaluator = EmbeddingSimilarityEvaluator.from_input_examples(test_examples)"
   ],
   "id": "1873d92a4bf85cb9",
   "outputs": [],
   "execution_count": 7
  },
  {
   "metadata": {
    "ExecuteTime": {
     "end_time": "2025-03-30T14:15:59.545887Z",
     "start_time": "2025-03-30T14:15:46.601610Z"
    }
   },
   "cell_type": "code",
   "source": "test_evaluator(embedding_model)",
   "id": "902958329ec204d6",
   "outputs": [
    {
     "data": {
      "text/plain": [
       "0.36460670798564826"
      ]
     },
     "execution_count": 8,
     "metadata": {},
     "output_type": "execute_result"
    }
   ],
   "execution_count": 8
  },
  {
   "metadata": {
    "ExecuteTime": {
     "end_time": "2025-03-30T14:32:19.152675Z",
     "start_time": "2025-03-30T14:18:31.385468Z"
    }
   },
   "cell_type": "code",
   "source": [
    "from sentence_transformers import losses\n",
    "\n",
    "num_epochs = 4\n",
    "model_name = 'klue/roberta-base'\n",
    "model_save_path = 'output/training_sts_' + model_name.replace(\"/\", \"-\") \n",
    "train_loss = losses.CosineSimilarityLoss(embedding_model)\n",
    "\n",
    "# 임베딩 모델 학습\n",
    "embedding_model.fit(\n",
    "    train_objectives=[(train_dataloader, train_loss)],\n",
    "    evaluator=eval_evaluator,\n",
    "    epochs=num_epochs,\n",
    "    evaluation_steps=1000,\n",
    "    warmup_steps=100,\n",
    "    output_path=model_save_path\n",
    ")"
   ],
   "id": "6377e62984a6ef8f",
   "outputs": [
    {
     "data": {
      "text/plain": [
       "Epoch:   0%|          | 0/4 [00:00<?, ?it/s]"
      ],
      "application/vnd.jupyter.widget-view+json": {
       "version_major": 2,
       "version_minor": 0,
       "model_id": "11715ee89aa545ceae777dd70ff88d66"
      }
     },
     "metadata": {},
     "output_type": "display_data"
    },
    {
     "data": {
      "text/plain": [
       "Iteration:   0%|          | 0/657 [00:00<?, ?it/s]"
      ],
      "application/vnd.jupyter.widget-view+json": {
       "version_major": 2,
       "version_minor": 0,
       "model_id": "a519640932d749abbb36541ae67095a7"
      }
     },
     "metadata": {},
     "output_type": "display_data"
    },
    {
     "data": {
      "text/plain": [
       "Iteration:   0%|          | 0/657 [00:00<?, ?it/s]"
      ],
      "application/vnd.jupyter.widget-view+json": {
       "version_major": 2,
       "version_minor": 0,
       "model_id": "19a7a19a4945402e93e55f46ef1e1ebb"
      }
     },
     "metadata": {},
     "output_type": "display_data"
    },
    {
     "data": {
      "text/plain": [
       "Iteration:   0%|          | 0/657 [00:00<?, ?it/s]"
      ],
      "application/vnd.jupyter.widget-view+json": {
       "version_major": 2,
       "version_minor": 0,
       "model_id": "c68ea47766134e5387258069401f0dfa"
      }
     },
     "metadata": {},
     "output_type": "display_data"
    },
    {
     "data": {
      "text/plain": [
       "Iteration:   0%|          | 0/657 [00:00<?, ?it/s]"
      ],
      "application/vnd.jupyter.widget-view+json": {
       "version_major": 2,
       "version_minor": 0,
       "model_id": "6f8c6c9c1d574e20ba4222d3968aa698"
      }
     },
     "metadata": {},
     "output_type": "display_data"
    }
   ],
   "execution_count": 9
  },
  {
   "metadata": {
    "ExecuteTime": {
     "end_time": "2025-03-30T14:32:21.972634Z",
     "start_time": "2025-03-30T14:32:19.155198Z"
    }
   },
   "cell_type": "code",
   "source": [
    "trained_embedding_model = SentenceTransformer(model_save_path)\n",
    "test_evaluator(trained_embedding_model)"
   ],
   "id": "d84549da18b452b1",
   "outputs": [
    {
     "data": {
      "text/plain": [
       "0.8945511095757502"
      ]
     },
     "execution_count": 10,
     "metadata": {},
     "output_type": "execute_result"
    }
   ],
   "execution_count": 10
  },
  {
   "metadata": {},
   "cell_type": "markdown",
   "source": [
    "# 11.3 임베딩 모델 미세 조정\n",
    "KLUE 의 MRC 데이터셋으로 추가 학습 -> 문장 사이 유사도를 더 잘 계산할 수 있도록 만든다 "
   ],
   "id": "8c8ce4db82c08a95"
  },
  {
   "metadata": {
    "ExecuteTime": {
     "end_time": "2025-03-30T14:33:05.121328Z",
     "start_time": "2025-03-30T14:32:21.973398Z"
    }
   },
   "cell_type": "code",
   "source": [
    "# 실습 데이터를 내려받고 예시 데이터 확인 \n",
    "from datasets import load_dataset\n",
    "\n",
    "klue_mrc_train = load_dataset('klue', 'mrc', split='train')\n",
    "klue_mrc_train[0]"
   ],
   "id": "a96fe9cacba7f34c",
   "outputs": [
    {
     "name": "stderr",
     "output_type": "stream",
     "text": [
      "Using the latest cached version of the dataset since klue couldn't be found on the Hugging Face Hub\n",
      "Found the latest cached dataset configuration 'mrc' at /Users/harim/.cache/huggingface/datasets/klue/mrc/0.0.0/349481ec73fff722f88e0453ca05c77a447d967c (last modified on Mon Feb  3 20:20:57 2025).\n"
     ]
    },
    {
     "data": {
      "text/plain": [
       "{'title': '제주도 장마 시작 … 중부는 이달 말부터',\n",
       " 'context': '올여름 장마가 17일 제주도에서 시작됐다. 서울 등 중부지방은 예년보다 사나흘 정도 늦은 이달 말께 장마가 시작될 전망이다.17일 기상청에 따르면 제주도 남쪽 먼바다에 있는 장마전선의 영향으로 이날 제주도 산간 및 내륙지역에 호우주의보가 내려지면서 곳곳에 100㎜에 육박하는 많은 비가 내렸다. 제주의 장마는 평년보다 2~3일, 지난해보다는 하루 일찍 시작됐다. 장마는 고온다습한 북태평양 기단과 한랭 습윤한 오호츠크해 기단이 만나 형성되는 장마전선에서 내리는 비를 뜻한다.장마전선은 18일 제주도 먼 남쪽 해상으로 내려갔다가 20일께 다시 북상해 전남 남해안까지 영향을 줄 것으로 보인다. 이에 따라 20~21일 남부지방에도 예년보다 사흘 정도 장마가 일찍 찾아올 전망이다. 그러나 장마전선을 밀어올리는 북태평양 고기압 세력이 약해 서울 등 중부지방은 평년보다 사나흘가량 늦은 이달 말부터 장마가 시작될 것이라는 게 기상청의 설명이다. 장마전선은 이후 한 달가량 한반도 중남부를 오르내리며 곳곳에 비를 뿌릴 전망이다. 최근 30년간 평균치에 따르면 중부지방의 장마 시작일은 6월24~25일이었으며 장마기간은 32일, 강수일수는 17.2일이었다.기상청은 올해 장마기간의 평균 강수량이 350~400㎜로 평년과 비슷하거나 적을 것으로 내다봤다. 브라질 월드컵 한국과 러시아의 경기가 열리는 18일 오전 서울은 대체로 구름이 많이 끼지만 비는 오지 않을 것으로 예상돼 거리 응원에는 지장이 없을 전망이다.',\n",
       " 'news_category': '종합',\n",
       " 'source': 'hankyung',\n",
       " 'guid': 'klue-mrc-v1_train_12759',\n",
       " 'is_impossible': False,\n",
       " 'question_type': 1,\n",
       " 'question': '북태평양 기단과 오호츠크해 기단이 만나 국내에 머무르는 기간은?',\n",
       " 'answers': {'answer_start': [478, 478], 'text': ['한 달가량', '한 달']}}"
      ]
     },
     "execution_count": 11,
     "metadata": {},
     "output_type": "execute_result"
    }
   ],
   "execution_count": 11
  },
  {
   "metadata": {},
   "cell_type": "markdown",
   "source": "",
   "id": "bea231fd46f14cf9"
  },
  {
   "metadata": {
    "ExecuteTime": {
     "end_time": "2025-03-30T14:33:17.825069Z",
     "start_time": "2025-03-30T14:33:05.123794Z"
    }
   },
   "cell_type": "code",
   "source": [
    "# 기본 임베딩 모델 불러오기\n",
    "\n",
    "from sentence_transformers import SentenceTransformer\n",
    "\n",
    "sentence_model = SentenceTransformer('shangrilar/klue-roberta-base-klue-sts')"
   ],
   "id": "14c4119876547dc1",
   "outputs": [
    {
     "data": {
      "text/plain": [
       "modules.json:   0%|          | 0.00/229 [00:00<?, ?B/s]"
      ],
      "application/vnd.jupyter.widget-view+json": {
       "version_major": 2,
       "version_minor": 0,
       "model_id": "314c3bd28ef743bb8924814fc008b930"
      }
     },
     "metadata": {},
     "output_type": "display_data"
    },
    {
     "data": {
      "text/plain": [
       "config_sentence_transformers.json:   0%|          | 0.00/123 [00:00<?, ?B/s]"
      ],
      "application/vnd.jupyter.widget-view+json": {
       "version_major": 2,
       "version_minor": 0,
       "model_id": "6be1483f451b408786d67b944797f150"
      }
     },
     "metadata": {},
     "output_type": "display_data"
    },
    {
     "data": {
      "text/plain": [
       "README.md:   0%|          | 0.00/3.79k [00:00<?, ?B/s]"
      ],
      "application/vnd.jupyter.widget-view+json": {
       "version_major": 2,
       "version_minor": 0,
       "model_id": "1e1f8cd85ccb41a2afadbbe5f4632605"
      }
     },
     "metadata": {},
     "output_type": "display_data"
    },
    {
     "data": {
      "text/plain": [
       "sentence_bert_config.json:   0%|          | 0.00/53.0 [00:00<?, ?B/s]"
      ],
      "application/vnd.jupyter.widget-view+json": {
       "version_major": 2,
       "version_minor": 0,
       "model_id": "fe56193bbf774bffb5e7f76dd406ae91"
      }
     },
     "metadata": {},
     "output_type": "display_data"
    },
    {
     "name": "stderr",
     "output_type": "stream",
     "text": [
      "/Users/harim/PycharmProjects/pythonProject/.venv/lib/python3.11/site-packages/huggingface_hub/file_download.py:1132: FutureWarning: `resume_download` is deprecated and will be removed in version 1.0.0. Downloads always resume when possible. If you want to force a new download, use `force_download=True`.\n",
      "  warnings.warn(\n"
     ]
    },
    {
     "data": {
      "text/plain": [
       "config.json:   0%|          | 0.00/744 [00:00<?, ?B/s]"
      ],
      "application/vnd.jupyter.widget-view+json": {
       "version_major": 2,
       "version_minor": 0,
       "model_id": "2346427b61934630bbc59925ab5d7c1c"
      }
     },
     "metadata": {},
     "output_type": "display_data"
    },
    {
     "data": {
      "text/plain": [
       "model.safetensors:   0%|          | 0.00/442M [00:00<?, ?B/s]"
      ],
      "application/vnd.jupyter.widget-view+json": {
       "version_major": 2,
       "version_minor": 0,
       "model_id": "c477b8aad64446bcbe3e8f0e0be7664e"
      }
     },
     "metadata": {},
     "output_type": "display_data"
    },
    {
     "data": {
      "text/plain": [
       "tokenizer_config.json:   0%|          | 0.00/1.28k [00:00<?, ?B/s]"
      ],
      "application/vnd.jupyter.widget-view+json": {
       "version_major": 2,
       "version_minor": 0,
       "model_id": "51afbb552607412eaf08cb6496589592"
      }
     },
     "metadata": {},
     "output_type": "display_data"
    },
    {
     "data": {
      "text/plain": [
       "vocab.txt:   0%|          | 0.00/248k [00:00<?, ?B/s]"
      ],
      "application/vnd.jupyter.widget-view+json": {
       "version_major": 2,
       "version_minor": 0,
       "model_id": "a82a2e09ad4f4f7c8b6e3f608e6a3d3f"
      }
     },
     "metadata": {},
     "output_type": "display_data"
    },
    {
     "data": {
      "text/plain": [
       "tokenizer.json:   0%|          | 0.00/752k [00:00<?, ?B/s]"
      ],
      "application/vnd.jupyter.widget-view+json": {
       "version_major": 2,
       "version_minor": 0,
       "model_id": "e9ebb9071593469d9cac6b14814db587"
      }
     },
     "metadata": {},
     "output_type": "display_data"
    },
    {
     "data": {
      "text/plain": [
       "special_tokens_map.json:   0%|          | 0.00/173 [00:00<?, ?B/s]"
      ],
      "application/vnd.jupyter.widget-view+json": {
       "version_major": 2,
       "version_minor": 0,
       "model_id": "18eebc94ccbc4fdd8010fc74b50c6719"
      }
     },
     "metadata": {},
     "output_type": "display_data"
    },
    {
     "data": {
      "text/plain": [
       "config.json:   0%|          | 0.00/190 [00:00<?, ?B/s]"
      ],
      "application/vnd.jupyter.widget-view+json": {
       "version_major": 2,
       "version_minor": 0,
       "model_id": "f302175c7687489b8b09393feff741ab"
      }
     },
     "metadata": {},
     "output_type": "display_data"
    }
   ],
   "execution_count": 12
  },
  {
   "metadata": {
    "ExecuteTime": {
     "end_time": "2025-03-30T14:33:35.203100Z",
     "start_time": "2025-03-30T14:33:17.826126Z"
    }
   },
   "cell_type": "code",
   "source": [
    "# 데이터 전처리\n",
    "from datasets import load_dataset\n",
    "\n",
    "klue_mrc_train = load_dataset('klue', 'mrc', split='train')\n",
    "klue_mrc_test = load_dataset('klue', 'mrc', split='validation')\n",
    "\n",
    "df_train = klue_mrc_train.to_pandas()\n",
    "df_test = klue_mrc_test.to_pandas()\n",
    "\n",
    "df_train = df_train[['title', 'question', 'context']]\n",
    "df_test = df_test[['title', 'question', 'context']]"
   ],
   "id": "290c879e60dc92e3",
   "outputs": [],
   "execution_count": 13
  },
  {
   "metadata": {
    "ExecuteTime": {
     "end_time": "2025-03-30T14:33:56.879610Z",
     "start_time": "2025-03-30T14:33:35.203865Z"
    }
   },
   "cell_type": "code",
   "source": [
    "# 질문과 관련 없는 기사를 irrelevant_context 컬럼에 추가\n",
    "def add_ir_context(df):\n",
    "    irrelevant_contexts = []\n",
    "    for idx, row in df.iterrows():\n",
    "        title = row['title']\n",
    "        irrelevant_contexts.append(df.query(f\"title != '{title}'\").sample(n=1)['context'].values[0])\n",
    "    df['irrelevant_context'] = irrelevant_contexts\n",
    "    return df\n",
    "\n",
    "df_train_ir = add_ir_context(df_train)\n",
    "df_test_ir = add_ir_context(df_test)"
   ],
   "id": "75d1f1208950200a",
   "outputs": [],
   "execution_count": 14
  },
  {
   "metadata": {
    "ExecuteTime": {
     "end_time": "2025-03-30T14:33:56.968019Z",
     "start_time": "2025-03-30T14:33:56.880474Z"
    }
   },
   "cell_type": "code",
   "source": [
    "# 성능 평가에 사용할 데이터 생성\n",
    "from sentence_transformers import InputExample\n",
    "\n",
    "examples = []\n",
    "for idx, row in df_test_ir.iterrows():\n",
    "    examples.append(\n",
    "        InputExample(\n",
    "            texts=[row['question'], row['context']],\n",
    "            label=1\n",
    "        )\n",
    "    )\n",
    "    examples.append(\n",
    "        InputExample(\n",
    "            texts=[row['question'], row['irrelevant_context']],\n",
    "            label=0\n",
    "        )\n",
    "    )"
   ],
   "id": "1a3221d6cce5b682",
   "outputs": [],
   "execution_count": 15
  },
  {
   "metadata": {
    "ExecuteTime": {
     "end_time": "2025-03-30T14:40:20.320748Z",
     "start_time": "2025-03-30T14:33:56.968738Z"
    }
   },
   "cell_type": "code",
   "source": [
    "# 기본 임베딩 모델의 성능 평가 결과\n",
    "from sentence_transformers.evaluation import EmbeddingSimilarityEvaluator\n",
    "\n",
    "evaluator = EmbeddingSimilarityEvaluator.from_input_examples(examples)\n",
    "evaluator(sentence_model)"
   ],
   "id": "757670bb35f1e27f",
   "outputs": [
    {
     "data": {
      "text/plain": [
       "0.815587159374204"
      ]
     },
     "execution_count": 16,
     "metadata": {},
     "output_type": "execute_result"
    }
   ],
   "execution_count": 16
  },
  {
   "metadata": {},
   "cell_type": "markdown",
   "source": "# 11.3.2 MNR 손실 활용해 미세 조정하기 ",
   "id": "1f59e1f09b2922c5"
  },
  {
   "metadata": {
    "ExecuteTime": {
     "end_time": "2025-03-30T14:40:20.715490Z",
     "start_time": "2025-03-30T14:40:20.325283Z"
    }
   },
   "cell_type": "code",
   "source": [
    "# 긍정 데이터만으로 학습 데이터 구성\n",
    "\n",
    "train_samples = []\n",
    "for idx, row in df_train.iterrows():\n",
    "    train_samples.append(\n",
    "        InputExample(\n",
    "            texts=[row['question'], row['context']],\n",
    "        )\n",
    "    )"
   ],
   "id": "b82d6aacfdd7c1a9",
   "outputs": [],
   "execution_count": 17
  },
  {
   "metadata": {
    "ExecuteTime": {
     "end_time": "2025-03-30T14:40:20.720933Z",
     "start_time": "2025-03-30T14:40:20.716234Z"
    }
   },
   "cell_type": "code",
   "source": [
    "# 중복 학습 데이터 제거\n",
    "from sentence_transformers import datasets \n",
    "\n",
    "batch_size = 16\n",
    "\n",
    "loader = datasets.NoDuplicatesDataLoader(train_samples, batch_size=batch_size)"
   ],
   "id": "69d5d2b63acefe04",
   "outputs": [],
   "execution_count": 18
  },
  {
   "metadata": {
    "ExecuteTime": {
     "end_time": "2025-03-30T14:40:20.723515Z",
     "start_time": "2025-03-30T14:40:20.721665Z"
    }
   },
   "cell_type": "code",
   "source": [
    "# MNR 손실 함수 불러오기\n",
    "\n",
    "from sentence_transformers import losses\n",
    "\n",
    "loss = losses.MultipleNegativesRankingLoss(sentence_model)"
   ],
   "id": "33907dd7decfb56c",
   "outputs": [],
   "execution_count": 19
  },
  {
   "metadata": {
    "ExecuteTime": {
     "end_time": "2025-03-31T00:32:19.344131Z",
     "start_time": "2025-03-30T14:40:20.724117Z"
    }
   },
   "cell_type": "code",
   "source": [
    "# MRC 데이터셋으로 미세 조정\n",
    "\n",
    "epochs = 1\n",
    "save_path = './klue_mrc_mnr'\n",
    "\n",
    "sentence_model.fit(\n",
    "    train_objectives=[(loader, loss)],\n",
    "    evaluator=evaluator,\n",
    "    epochs=epochs,\n",
    "    warmup_steps=100,\n",
    "    output_path=save_path,\n",
    "    show_progress_bar=True\n",
    ")"
   ],
   "id": "4ee291f542bab770",
   "outputs": [
    {
     "data": {
      "text/plain": [
       "Epoch:   0%|          | 0/1 [00:00<?, ?it/s]"
      ],
      "application/vnd.jupyter.widget-view+json": {
       "version_major": 2,
       "version_minor": 0,
       "model_id": "6cddc7bc953c494ca699a2d49eb66b65"
      }
     },
     "metadata": {},
     "output_type": "display_data"
    },
    {
     "data": {
      "text/plain": [
       "Iteration:   0%|          | 0/1097 [00:00<?, ?it/s]"
      ],
      "application/vnd.jupyter.widget-view+json": {
       "version_major": 2,
       "version_minor": 0,
       "model_id": "174535f3e95840979288ce117af8a176"
      }
     },
     "metadata": {},
     "output_type": "display_data"
    }
   ],
   "execution_count": 20
  },
  {
   "metadata": {
    "ExecuteTime": {
     "end_time": "2025-03-31T00:38:45.087236Z",
     "start_time": "2025-03-31T00:32:19.358960Z"
    }
   },
   "cell_type": "code",
   "source": "evaluator(sentence_model)",
   "id": "1f97c81c3d52ccaa",
   "outputs": [
    {
     "data": {
      "text/plain": [
       "0.859064312639841"
      ]
     },
     "execution_count": 21,
     "metadata": {},
     "output_type": "execute_result"
    }
   ],
   "execution_count": 21
  },
  {
   "metadata": {},
   "cell_type": "markdown",
   "source": "# 11.4 검색 품질을 높이는 순위 재정렬",
   "id": "af8e53f06fb5ae83"
  },
  {
   "metadata": {
    "ExecuteTime": {
     "end_time": "2025-03-31T00:38:53.932287Z",
     "start_time": "2025-03-31T00:38:45.115547Z"
    }
   },
   "cell_type": "code",
   "source": [
    "# 교차 인코더로 사용할 사전 학습 모델 불러오기\n",
    "from sentence_transformers.cross_encoder import CrossEncoder\n",
    "\n",
    "cross_model = CrossEncoder('klue/roberta-small', num_labels=1)"
   ],
   "id": "a2b65bbdd3416f18",
   "outputs": [
    {
     "name": "stderr",
     "output_type": "stream",
     "text": [
      "/Users/harim/PycharmProjects/pythonProject/.venv/lib/python3.11/site-packages/huggingface_hub/file_download.py:1132: FutureWarning: `resume_download` is deprecated and will be removed in version 1.0.0. Downloads always resume when possible. If you want to force a new download, use `force_download=True`.\n",
      "  warnings.warn(\n"
     ]
    },
    {
     "data": {
      "text/plain": [
       "config.json:   0%|          | 0.00/545 [00:00<?, ?B/s]"
      ],
      "application/vnd.jupyter.widget-view+json": {
       "version_major": 2,
       "version_minor": 0,
       "model_id": "35e2ae292862430299d5e5780611aa81"
      }
     },
     "metadata": {},
     "output_type": "display_data"
    },
    {
     "data": {
      "text/plain": [
       "model.safetensors:   0%|          | 0.00/273M [00:00<?, ?B/s]"
      ],
      "application/vnd.jupyter.widget-view+json": {
       "version_major": 2,
       "version_minor": 0,
       "model_id": "d4153838952548da8e7ef50eac39b5a2"
      }
     },
     "metadata": {},
     "output_type": "display_data"
    },
    {
     "name": "stderr",
     "output_type": "stream",
     "text": [
      "Some weights of RobertaForSequenceClassification were not initialized from the model checkpoint at klue/roberta-small and are newly initialized: ['classifier.dense.bias', 'classifier.dense.weight', 'classifier.out_proj.bias', 'classifier.out_proj.weight']\n",
      "You should probably TRAIN this model on a down-stream task to be able to use it for predictions and inference.\n"
     ]
    },
    {
     "data": {
      "text/plain": [
       "tokenizer_config.json:   0%|          | 0.00/375 [00:00<?, ?B/s]"
      ],
      "application/vnd.jupyter.widget-view+json": {
       "version_major": 2,
       "version_minor": 0,
       "model_id": "37d1d384ded048cda929280c4b6a6c71"
      }
     },
     "metadata": {},
     "output_type": "display_data"
    },
    {
     "data": {
      "text/plain": [
       "vocab.txt:   0%|          | 0.00/248k [00:00<?, ?B/s]"
      ],
      "application/vnd.jupyter.widget-view+json": {
       "version_major": 2,
       "version_minor": 0,
       "model_id": "dda51841396348c5964fbdfca8b9a68b"
      }
     },
     "metadata": {},
     "output_type": "display_data"
    },
    {
     "data": {
      "text/plain": [
       "tokenizer.json:   0%|          | 0.00/752k [00:00<?, ?B/s]"
      ],
      "application/vnd.jupyter.widget-view+json": {
       "version_major": 2,
       "version_minor": 0,
       "model_id": "9bf1befd3ceb4270816e6bd575b32fa4"
      }
     },
     "metadata": {},
     "output_type": "display_data"
    },
    {
     "data": {
      "text/plain": [
       "special_tokens_map.json:   0%|          | 0.00/173 [00:00<?, ?B/s]"
      ],
      "application/vnd.jupyter.widget-view+json": {
       "version_major": 2,
       "version_minor": 0,
       "model_id": "2557427c3c384fc2ae7ff252c92925cd"
      }
     },
     "metadata": {},
     "output_type": "display_data"
    }
   ],
   "execution_count": 22
  },
  {
   "metadata": {
    "ExecuteTime": {
     "end_time": "2025-03-31T00:41:59.598529Z",
     "start_time": "2025-03-31T00:38:53.933377Z"
    }
   },
   "cell_type": "code",
   "source": [
    "# 미세 조정하지 않은 교차 인코더의 성능 평가 결과\n",
    "from sentence_transformers.cross_encoder.evaluation import CECorrelationEvaluator\n",
    "\n",
    "ce_evaluator = CECorrelationEvaluator.from_input_examples(examples)\n",
    "ce_evaluator(cross_model)"
   ],
   "id": "7a778a29f93af171",
   "outputs": [
    {
     "data": {
      "text/plain": [
       "0.0335887511605018"
      ]
     },
     "execution_count": 23,
     "metadata": {},
     "output_type": "execute_result"
    }
   ],
   "execution_count": 23
  },
  {
   "metadata": {},
   "cell_type": "markdown",
   "source": "",
   "id": "58923a92194f810d"
  },
  {
   "metadata": {
    "ExecuteTime": {
     "end_time": "2025-03-31T00:42:00.058245Z",
     "start_time": "2025-03-31T00:41:59.599908Z"
    }
   },
   "cell_type": "code",
   "source": [
    "# 교차 인코더 학습 데이터셋 준비\n",
    "\n",
    "train_samples = []\n",
    "for idx, row in df_train_ir.iterrows():\n",
    "    train_samples.append(\n",
    "        InputExample(\n",
    "            texts=[row['question'], row['context']],\n",
    "            label=1\n",
    "        )\n",
    "    )\n",
    "    train_samples.append(\n",
    "        InputExample(\n",
    "            texts=[row['question'], row['irrelevant_context']],\n",
    "            label=0\n",
    "        )\n",
    "    )"
   ],
   "id": "73b5a9b7ec8d050f",
   "outputs": [],
   "execution_count": 24
  },
  {
   "metadata": {
    "ExecuteTime": {
     "end_time": "2025-03-31T01:01:00.903280Z",
     "start_time": "2025-03-31T00:42:00.059167Z"
    }
   },
   "cell_type": "code",
   "source": [
    "# 교차 인코더 학습 수행\n",
    "\n",
    "train_batch_size = 16\n",
    "num_epochs = 1\n",
    "model_save_path = 'output/training_mrc'\n",
    "\n",
    "train_dataloader = DataLoader(train_samples, shuffle=True, batch_size=train_batch_size)\n",
    "\n",
    "cross_model.fit(\n",
    "    train_dataloader=train_dataloader,\n",
    "    epochs=num_epochs,\n",
    "    warmup_steps=100,\n",
    "    output_path=model_save_path\n",
    ")"
   ],
   "id": "13a940ce48404d9d",
   "outputs": [
    {
     "data": {
      "text/plain": [
       "Epoch:   0%|          | 0/1 [00:00<?, ?it/s]"
      ],
      "application/vnd.jupyter.widget-view+json": {
       "version_major": 2,
       "version_minor": 0,
       "model_id": "b6915120b66b474691423f23c769c28b"
      }
     },
     "metadata": {},
     "output_type": "display_data"
    },
    {
     "data": {
      "text/plain": [
       "Iteration:   0%|          | 0/2195 [00:00<?, ?it/s]"
      ],
      "application/vnd.jupyter.widget-view+json": {
       "version_major": 2,
       "version_minor": 0,
       "model_id": "49329dc27d3044ca921fc6e50f6e9dba"
      }
     },
     "metadata": {},
     "output_type": "display_data"
    },
    {
     "name": "stderr",
     "output_type": "stream",
     "text": [
      "\n",
      "KeyboardInterrupt\n",
      "\n"
     ]
    }
   ],
   "execution_count": 25
  },
  {
   "metadata": {
    "ExecuteTime": {
     "end_time": "2025-03-31T01:01:00.952198Z",
     "start_time": "2025-03-31T01:01:00.951615Z"
    }
   },
   "cell_type": "code",
   "source": [
    "# 학습한 교차 인코더 성능 평가\n",
    "ce_evaluator(cross_model)"
   ],
   "id": "e931f32de86980ed",
   "outputs": [],
   "execution_count": null
  },
  {
   "metadata": {},
   "cell_type": "markdown",
   "source": [
    "# 11.5 바이 인코더와 교차 인코더로 개선된 RAG 구현하기 \n",
    "- 기본 임베딩 모델로 검색\n",
    "- 미세 조정한 임베딩 모델로 검색\n",
    "- 미세 조정한 모델과 교차 인코더를 결합해 검색"
   ],
   "id": "a5be34931b087732"
  },
  {
   "metadata": {},
   "cell_type": "code",
   "source": [
    "# 평가 위한 데이터셋 불러와 1000개 선별\n",
    "\n",
    "from datasets import load_dataset\n",
    "\n",
    "klue_mrc_test = load_dataset('klue', 'mrc', split='validation')\n",
    "klue_mrc_test = klue_mrc_test.train_test_split(test_size=1000, seed=42)['test']"
   ],
   "id": "fcb6d2b8f22b0542",
   "outputs": [],
   "execution_count": null
  },
  {
   "metadata": {},
   "cell_type": "code",
   "source": [
    "# 임베딩 저장하고 검색하는 함수 구현 \n",
    "import faiss\n",
    "\n",
    "def make_embedding_index(sentence_model, corpus):\n",
    "    embeddings = sentence_model.encode(corpus)\n",
    "    index = faiss.IndexflatL2(embeddings.shape[1])\n",
    "    index.add(embeddings)\n",
    "    return index\n",
    "\n",
    "def find_embedding_top_k(query, sentence_model, index, k):\n",
    "    embedding = sentence_model.encode([query])\n",
    "    distances, indices = index.search(embedding, k)\n",
    "    return indices "
   ],
   "id": "9622a1922282f2a2",
   "outputs": [],
   "execution_count": null
  },
  {
   "metadata": {
    "ExecuteTime": {
     "end_time": "2025-03-31T01:01:00.977576Z",
     "start_time": "2025-03-31T01:01:00.963131Z"
    }
   },
   "cell_type": "code",
   "source": [
    "# 교차 인코더를 활용한 순위 재정렬 함수 정의\n",
    "import numpy as np\n",
    "\n",
    "def make_question_context_pairs(question_idx, indices):\n",
    "    return [[klue_mrc_test['question'][question_idx], klue_mrc_test['context'][idx]] for idx in indices]\n",
    "\n",
    "def rerank_top_k(cross_model, question_idx, indices, k):\n",
    "    input_examples = make_question_context_pairs(question_idx, indices)\n",
    "    relevance_scores = cross_model.predict(input_examples)\n",
    "    reranked_indices = indices[np.argsort(relevance_scores)[::-1]]\n",
    "    return reranked_indices"
   ],
   "id": "60a3794e0fef0b33",
   "outputs": [],
   "execution_count": null
  },
  {
   "metadata": {},
   "cell_type": "code",
   "source": [
    "# 성능 지표와 평가에 걸린 시간 반환하는 함수 정의\n",
    "import time\n",
    "\n",
    "def evaluate_hit_rate(datasets, embedding_model, index, k=10):\n",
    "    start_time = time.time()\n",
    "    predictions = []\n",
    "    for question in datasets['question']:\n",
    "        predictions.append(find_embedding_top_k(question, embedding_model, index, k)[0])\n",
    "    total_prediction_count = len(predictions)\n",
    "    hit_count = 0\n",
    "    questions = datasets['question']\n",
    "    contexts = datasets['context']\n",
    "    for idx, prediction in enumerate(predictions):\n",
    "        for pred in prediction:\n",
    "            if contexts[pred] == contexts[idx]:\n",
    "                hit_count += 1\n",
    "                break\n",
    "    end_time = time.time()\n",
    "    return hit_count / total_prediction_count, end_time - start_time"
   ],
   "id": "3d9bd768d126baab",
   "outputs": [],
   "execution_count": null
  },
  {
   "metadata": {
    "ExecuteTime": {
     "end_time": "2025-03-31T01:01:00.987780Z",
     "start_time": "2025-03-31T01:01:00.987679Z"
    }
   },
   "cell_type": "code",
   "source": [
    "# 기본 임베딩 모델 평가\n",
    "from sentence_transformers import SentenceTransformer\n",
    "base_embedding_model = SentenceTransformer('shangrilar/klue-roberta-base-klue-sts')\n",
    "base_index = make_embedding_index(base_embedding_model, klue_mrc_test['context'])\n",
    "evaluate_hit_rate(klue_mrc_test, base_embedding_model, 10)"
   ],
   "id": "fd1e756db67971b4",
   "outputs": [],
   "execution_count": null
  },
  {
   "metadata": {
    "ExecuteTime": {
     "end_time": "2025-03-31T01:01:00.995538Z",
     "start_time": "2025-03-31T01:01:00.995429Z"
    }
   },
   "cell_type": "code",
   "source": [
    "# 미세 조정한 임베딩 모델 평가\n",
    "finetuned_embedding_model = SentenceTransformer('shangrilar/klue-roberta-base-klue-sts-mrc')\n",
    "finetuned_index = make_embedding_index(finetuned_embedding_model, klue_mrc_test['context'])\n",
    "evaluate_hit_rate(klue_mrc_test, finetuned_embedding_model, 10)\n",
    "# (0.946, 14.30988)"
   ],
   "id": "e9582cb5f9722af9",
   "outputs": [],
   "execution_count": null
  },
  {
   "metadata": {
    "ExecuteTime": {
     "end_time": "2025-03-31T01:01:01.001363Z",
     "start_time": "2025-03-31T01:01:00.999401Z"
    }
   },
   "cell_type": "code",
   "source": [
    "# 순위 재정렬 포함한 평가 함수\n",
    "import time\n",
    "import numpy as np\n",
    "from tqdm.auto import tqdm\n",
    "\n",
    "def evaluate_hit_rate_with_rerank(datasets, embedding_model, cross_model, index, bi_k=30, cross_k=10):\n",
    "    start_time = time.time()\n",
    "    predictions = []\n",
    "    for question_idx, question in enumerate(tqdm(datasets['question'])):\n",
    "        indices = find_embedding_top_k(question, embedding_model, index, bi_k)[0]\n",
    "        predictions.append(rerank_top_k(cross_model, question_idx, indices, cross_k))\n",
    "    total_prediction_count = len(predictions)\n",
    "    hit_count = 0\n",
    "    questions = datasets['question']\n",
    "    contexts = datasets['context']\n",
    "    for idx, prediction in enumerate(predictions):\n",
    "        for pred in prediction:\n",
    "            if contexts[pred] == contexts[idx]:\n",
    "                hit_count += 1\n",
    "                break\n",
    "    end_time = time.time()\n",
    "    return hit_count / total_prediction_count, end_time - start_time"
   ],
   "id": "cf4114f858863df4",
   "outputs": [],
   "execution_count": null
  },
  {
   "metadata": {},
   "cell_type": "code",
   "outputs": [],
   "execution_count": null,
   "source": "",
   "id": "5bfc9944f0ac5dc5"
  }
 ],
 "metadata": {
  "kernelspec": {
   "display_name": "Python 3",
   "language": "python",
   "name": "python3"
  },
  "language_info": {
   "codemirror_mode": {
    "name": "ipython",
    "version": 2
   },
   "file_extension": ".py",
   "mimetype": "text/x-python",
   "name": "python",
   "nbconvert_exporter": "python",
   "pygments_lexer": "ipython2",
   "version": "2.7.6"
  }
 },
 "nbformat": 4,
 "nbformat_minor": 5
}
